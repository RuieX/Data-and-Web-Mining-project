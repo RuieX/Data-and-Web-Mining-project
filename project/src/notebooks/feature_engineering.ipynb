{
 "cells": [
  {
   "cell_type": "markdown",
   "source": [
    "intro di cosa faccio in questo notebook, e obiettivo\n",
    "\n",
    " Zillow is asking you to predict the log-error between their Zestimate and the actual sale price, given all the features of a home.\n",
    "\n",
    "The log error is defined as\n",
    "\n",
    "_logerror = log(Zestimate) - log(SalePrice)_\n",
    "\n",
    "and it is recorded in the transactions file train.csv.\n",
    "\n",
    "To predict the sale prices of the houses and improve the log error i.e. the error due to the difference between the actual and the predicted home values.\n",
    "\n",
    "In this competition, you are going to predict the logerror for the months in Fall 2017.  (penso fall 2017 dato che uso 2017, sept, oct, nov)\n",
    "\n",
    "properties_2017.csv - all the properties with their home features for 2017 (released on 10/2/2017)\n",
    "train_2017.csv - the training set with transactions from 1/1/2017 to 9/15/2017 (released on 10/2/2017)"
   ],
   "metadata": {
    "collapsed": false,
    "pycharm": {
     "name": "#%% md\n"
    }
   }
  },
  {
   "cell_type": "markdown",
   "source": [
    "Train/Test split\n",
    "\n",
    "- You are provided with a full list of real estate properties in three counties (Los Angeles, Orange and Ventura, California) data in 2016.\n",
    "- The train data has all the transactions before October 15, 2016, plus some of the transactions after October 15, 2016.\n",
    "- The test data in the public leaderboard has the rest of the transactions between October 15 and December 31, 2016.\n",
    "- The rest of the test data, which is used for calculating the private leaderboard, is all the properties in October 15, 2017, to December 15, 2017. This period is called the \"sales tracking period\", during which we will not be taking any submissions.\n",
    "- You are asked to predict 6 time points for all properties: October 2016 (201610), November 2016 (201611), December 2016 (201612), October 2017 (201710), November 2017 (201711), and December 2017 (201712).\n",
    "- Not all the properties are sold in each time period. If a property was not sold in a certain time period, that particular row will be ignored when calculating your score.\n",
    "- If a property is sold multiple times within 31 days, we take the first reasonable value as the ground truth. By \"reasonable\", we mean if the data seems wrong, we will take the transaction that has a value that makes more sense."
   ],
   "metadata": {
    "collapsed": false,
    "pycharm": {
     "name": "#%% md\n"
    }
   }
  },
  {
   "cell_type": "markdown",
   "source": [
    "# Introduction\n",
    "\n",
    "In this notebook the datasets from the [Zillow Prize Challenge](https://www.kaggle.com/c/zillow-prize-1/overview) are elaborated with different levels of manual intervention in the feature engineering process, in order to understand how impactful each level of intervention is to the final model predictions.\n",
    "\n",
    "Datasets are engineered in an incremental fashion, where level x+1 continues the engineering process from where the level x ended."
   ],
   "metadata": {
    "collapsed": false,
    "pycharm": {
     "name": "#%% md\n"
    }
   }
  },
  {
   "cell_type": "markdown",
   "source": [
    "# Setup\n",
    "Let us first import the necessary modules.\n",
    "\n",
    "Importing the required libraries."
   ],
   "metadata": {
    "collapsed": false,
    "pycharm": {
     "name": "#%% md\n"
    }
   }
  },
  {
   "cell_type": "code",
   "execution_count": 1,
   "outputs": [],
   "source": [
    "%matplotlib inline\n",
    "\n",
    "import math # linear algebra\n",
    "import numpy as np # data processing, CSV file I/O (e.g. pd.read_csv)\n",
    "import seaborn as sns # prolly non mi serve, e solo per estetica\n",
    "import matplotlib.pyplot as plt\n",
    "import operator\n",
    "import pandas as pd\n",
    "opt_max_cols = 99\n",
    "pd.set_option(\"display.max_columns\", opt_max_cols)\n",
    "color = sns.color_palette() #di seaborn, se inutile tolgo\n",
    "\n",
    "# Might be needed in notebook to import modules\n",
    "# dir structure: project -> src -> notebooks\n",
    "import sys\n",
    "import os\n",
    "sys.path.insert(0, os.path.abspath(\"../../\"))\n",
    "\n",
    "from sklearn.ensemble import RandomForestRegressor\n",
    "\n",
    "# sostituire se ho i file, sono solo per importare script python scritti da me\n",
    "# import project.src.feat_engineering as fe\n",
    "# import project.src.training as tr\n",
    "# import project.src.visualization as vis\n",
    "# import project.src.utils as utils\n",
    "# import project.src.dataset_manager as dm\n",
    "\n",
    "# RND_SEED = utils.RND_SEED #non so a cosa serva sinceramente\n",
    "np.random.seed(1)"
   ],
   "metadata": {
    "collapsed": false,
    "pycharm": {
     "name": "#%%\n"
    }
   }
  },
  {
   "cell_type": "markdown",
   "source": [
    "# Load Data\n",
    "\n",
    "[>>>cambia testo<<<]\n",
    "Only 2017 data is used since it is the updated version of 2016 and the two properties datasets do not differ significantly, except for some new properties that have their correct data registered.\n",
    "\n",
    "reading the dataset."
   ],
   "metadata": {
    "collapsed": false,
    "pycharm": {
     "name": "#%% md\n"
    }
   }
  },
  {
   "cell_type": "markdown",
   "source": [
    "We need to load the datasets that will be needed to train our machine learning algorithms, handle our data and make predictions.\n",
    "Note that these datasets are the ones that are already provided once you enter the competition by accepting terms and conditions"
   ],
   "metadata": {
    "collapsed": false,
    "pycharm": {
     "name": "#%% md\n"
    }
   }
  },
  {
   "cell_type": "code",
   "execution_count": 2,
   "outputs": [
    {
     "name": "stderr",
     "output_type": "stream",
     "text": [
      "/Library/Frameworks/Python.framework/Versions/3.9/lib/python3.9/site-packages/IPython/core/interactiveshell.py:3457: DtypeWarning: Columns (49) have mixed types.Specify dtype option on import or set low_memory=False.\n",
      "  exec(code_obj, self.user_global_ns, self.user_ns)\n"
     ]
    }
   ],
   "source": [
    "# non so cosa sia actual # da pier\n",
    "# ACTUAL_2017_CSV = f\"{dm.DATASETS_DIR}/actual-2017.csv\"\n",
    "properties_2017 = pd.read_csv('../data/zillow-prize-1/properties_2017.csv')\n",
    "train_2017 = pd.read_csv('../data/zillow-prize-1/train_2017.csv') #, parse_dates = [\"transactiondate\"] # loro lo fanno,pier?"
   ],
   "metadata": {
    "collapsed": false,
    "pycharm": {
     "name": "#%%\n"
    }
   }
  },
  {
   "cell_type": "markdown",
   "source": [
    "## Property data"
   ],
   "metadata": {
    "collapsed": false,
    "pycharm": {
     "name": "#%% md\n"
    }
   }
  },
  {
   "cell_type": "code",
   "execution_count": 3,
   "outputs": [
    {
     "name": "stdout",
     "output_type": "stream",
     "text": [
      "Shape of properties_2017:  (2985217, 58)\n",
      "Shape of train_2017:  (77613, 3)\n"
     ]
    }
   ],
   "source": [
    "# Shape of the datasets\n",
    "print('Shape of properties_2017: ', properties_2017.shape)\n",
    "print('Shape of train_2017: ', train_2017.shape)"
   ],
   "metadata": {
    "collapsed": false,
    "pycharm": {
     "name": "#%%\n"
    }
   }
  },
  {
   "cell_type": "code",
   "execution_count": 4,
   "outputs": [
    {
     "data": {
      "text/plain": "   parcelid  airconditioningtypeid  architecturalstyletypeid  basementsqft  \\\n0  10754147                    NaN                       NaN           NaN   \n1  10759547                    NaN                       NaN           NaN   \n2  10843547                    NaN                       NaN           NaN   \n3  10859147                    NaN                       NaN           NaN   \n4  10879947                    NaN                       NaN           NaN   \n\n   bathroomcnt  bedroomcnt  buildingclasstypeid  buildingqualitytypeid  \\\n0          0.0         0.0                  NaN                    NaN   \n1          0.0         0.0                  NaN                    NaN   \n2          0.0         0.0                  5.0                    NaN   \n3          0.0         0.0                  3.0                    6.0   \n4          0.0         0.0                  4.0                    NaN   \n\n   calculatedbathnbr  decktypeid  finishedfloor1squarefeet  \\\n0                NaN         NaN                       NaN   \n1                NaN         NaN                       NaN   \n2                NaN         NaN                       NaN   \n3                NaN         NaN                       NaN   \n4                NaN         NaN                       NaN   \n\n   calculatedfinishedsquarefeet  finishedsquarefeet12  finishedsquarefeet13  \\\n0                           NaN                   NaN                   NaN   \n1                           NaN                   NaN                   NaN   \n2                       73026.0                   NaN                   NaN   \n3                        5068.0                   NaN                   NaN   \n4                        1776.0                   NaN                   NaN   \n\n   finishedsquarefeet15  finishedsquarefeet50  finishedsquarefeet6    fips  \\\n0                   NaN                   NaN                  NaN  6037.0   \n1                   NaN                   NaN                  NaN  6037.0   \n2               73026.0                   NaN                  NaN  6037.0   \n3                5068.0                   NaN                  NaN  6037.0   \n4                1776.0                   NaN                  NaN  6037.0   \n\n   fireplacecnt  fullbathcnt  garagecarcnt  garagetotalsqft hashottuborspa  \\\n0           NaN          NaN           NaN              NaN            NaN   \n1           NaN          NaN           NaN              NaN            NaN   \n2           NaN          NaN           NaN              NaN            NaN   \n3           NaN          NaN           NaN              NaN            NaN   \n4           NaN          NaN           NaN              NaN            NaN   \n\n   heatingorsystemtypeid    latitude    longitude  lotsizesquarefeet  poolcnt  \\\n0                    NaN  34144442.0 -118654084.0            85768.0      NaN   \n1                    NaN  34140430.0 -118625364.0             4083.0      NaN   \n2                    NaN  33989359.0 -118394633.0            63085.0      NaN   \n3                    NaN  34148863.0 -118437206.0             7521.0      NaN   \n4                    NaN  34194168.0 -118385816.0             8512.0      NaN   \n\n   poolsizesum  pooltypeid10  pooltypeid2  pooltypeid7  \\\n0          NaN           NaN          NaN          NaN   \n1          NaN           NaN          NaN          NaN   \n2          NaN           NaN          NaN          NaN   \n3          NaN           NaN          NaN          NaN   \n4          NaN           NaN          NaN          NaN   \n\n  propertycountylandusecode  propertylandusetypeid propertyzoningdesc  \\\n0                      010D                  269.0                NaN   \n1                      0109                  261.0             LCA11*   \n2                      1200                   47.0               LAC2   \n3                      1200                   47.0               LAC2   \n4                      1210                   31.0               LAM1   \n\n   rawcensustractandblock  regionidcity  regionidcounty  regionidneighborhood  \\\n0            6.037800e+07       37688.0          3101.0                   NaN   \n1            6.037800e+07       37688.0          3101.0                   NaN   \n2            6.037703e+07       51617.0          3101.0                   NaN   \n3            6.037141e+07       12447.0          3101.0               27080.0   \n4            6.037123e+07       12447.0          3101.0               46795.0   \n\n   regionidzip  roomcnt  storytypeid  threequarterbathnbr  \\\n0      96337.0      0.0          NaN                  NaN   \n1      96337.0      0.0          NaN                  NaN   \n2      96095.0      0.0          NaN                  NaN   \n3      96424.0      0.0          NaN                  NaN   \n4      96450.0      0.0          NaN                  NaN   \n\n   typeconstructiontypeid  unitcnt  yardbuildingsqft17  yardbuildingsqft26  \\\n0                     NaN      NaN                 NaN                 NaN   \n1                     NaN      NaN                 NaN                 NaN   \n2                     NaN      2.0                 NaN                 NaN   \n3                     NaN      NaN                 NaN                 NaN   \n4                     NaN      1.0                 NaN                 NaN   \n\n   yearbuilt  numberofstories fireplaceflag  structuretaxvaluedollarcnt  \\\n0        NaN              NaN           NaN                         NaN   \n1        NaN              NaN           NaN                         NaN   \n2     1959.0              1.0           NaN                    660680.0   \n3     1948.0              1.0           NaN                    580059.0   \n4     1947.0              1.0           NaN                    196751.0   \n\n   taxvaluedollarcnt  assessmentyear  landtaxvaluedollarcnt  taxamount  \\\n0                9.0          2016.0                    9.0        NaN   \n1            27516.0          2015.0                27516.0        NaN   \n2          1434941.0          2016.0               774261.0   20800.37   \n3          1174475.0          2016.0               594416.0   14557.57   \n4           440101.0          2016.0               243350.0    5725.17   \n\n  taxdelinquencyflag  taxdelinquencyyear  censustractandblock  \n0                NaN                 NaN                  NaN  \n1                NaN                 NaN                  NaN  \n2                NaN                 NaN                  NaN  \n3                NaN                 NaN                  NaN  \n4                NaN                 NaN                  NaN  ",
      "text/html": "<div>\n<style scoped>\n    .dataframe tbody tr th:only-of-type {\n        vertical-align: middle;\n    }\n\n    .dataframe tbody tr th {\n        vertical-align: top;\n    }\n\n    .dataframe thead th {\n        text-align: right;\n    }\n</style>\n<table border=\"1\" class=\"dataframe\">\n  <thead>\n    <tr style=\"text-align: right;\">\n      <th></th>\n      <th>parcelid</th>\n      <th>airconditioningtypeid</th>\n      <th>architecturalstyletypeid</th>\n      <th>basementsqft</th>\n      <th>bathroomcnt</th>\n      <th>bedroomcnt</th>\n      <th>buildingclasstypeid</th>\n      <th>buildingqualitytypeid</th>\n      <th>calculatedbathnbr</th>\n      <th>decktypeid</th>\n      <th>finishedfloor1squarefeet</th>\n      <th>calculatedfinishedsquarefeet</th>\n      <th>finishedsquarefeet12</th>\n      <th>finishedsquarefeet13</th>\n      <th>finishedsquarefeet15</th>\n      <th>finishedsquarefeet50</th>\n      <th>finishedsquarefeet6</th>\n      <th>fips</th>\n      <th>fireplacecnt</th>\n      <th>fullbathcnt</th>\n      <th>garagecarcnt</th>\n      <th>garagetotalsqft</th>\n      <th>hashottuborspa</th>\n      <th>heatingorsystemtypeid</th>\n      <th>latitude</th>\n      <th>longitude</th>\n      <th>lotsizesquarefeet</th>\n      <th>poolcnt</th>\n      <th>poolsizesum</th>\n      <th>pooltypeid10</th>\n      <th>pooltypeid2</th>\n      <th>pooltypeid7</th>\n      <th>propertycountylandusecode</th>\n      <th>propertylandusetypeid</th>\n      <th>propertyzoningdesc</th>\n      <th>rawcensustractandblock</th>\n      <th>regionidcity</th>\n      <th>regionidcounty</th>\n      <th>regionidneighborhood</th>\n      <th>regionidzip</th>\n      <th>roomcnt</th>\n      <th>storytypeid</th>\n      <th>threequarterbathnbr</th>\n      <th>typeconstructiontypeid</th>\n      <th>unitcnt</th>\n      <th>yardbuildingsqft17</th>\n      <th>yardbuildingsqft26</th>\n      <th>yearbuilt</th>\n      <th>numberofstories</th>\n      <th>fireplaceflag</th>\n      <th>structuretaxvaluedollarcnt</th>\n      <th>taxvaluedollarcnt</th>\n      <th>assessmentyear</th>\n      <th>landtaxvaluedollarcnt</th>\n      <th>taxamount</th>\n      <th>taxdelinquencyflag</th>\n      <th>taxdelinquencyyear</th>\n      <th>censustractandblock</th>\n    </tr>\n  </thead>\n  <tbody>\n    <tr>\n      <th>0</th>\n      <td>10754147</td>\n      <td>NaN</td>\n      <td>NaN</td>\n      <td>NaN</td>\n      <td>0.0</td>\n      <td>0.0</td>\n      <td>NaN</td>\n      <td>NaN</td>\n      <td>NaN</td>\n      <td>NaN</td>\n      <td>NaN</td>\n      <td>NaN</td>\n      <td>NaN</td>\n      <td>NaN</td>\n      <td>NaN</td>\n      <td>NaN</td>\n      <td>NaN</td>\n      <td>6037.0</td>\n      <td>NaN</td>\n      <td>NaN</td>\n      <td>NaN</td>\n      <td>NaN</td>\n      <td>NaN</td>\n      <td>NaN</td>\n      <td>34144442.0</td>\n      <td>-118654084.0</td>\n      <td>85768.0</td>\n      <td>NaN</td>\n      <td>NaN</td>\n      <td>NaN</td>\n      <td>NaN</td>\n      <td>NaN</td>\n      <td>010D</td>\n      <td>269.0</td>\n      <td>NaN</td>\n      <td>6.037800e+07</td>\n      <td>37688.0</td>\n      <td>3101.0</td>\n      <td>NaN</td>\n      <td>96337.0</td>\n      <td>0.0</td>\n      <td>NaN</td>\n      <td>NaN</td>\n      <td>NaN</td>\n      <td>NaN</td>\n      <td>NaN</td>\n      <td>NaN</td>\n      <td>NaN</td>\n      <td>NaN</td>\n      <td>NaN</td>\n      <td>NaN</td>\n      <td>9.0</td>\n      <td>2016.0</td>\n      <td>9.0</td>\n      <td>NaN</td>\n      <td>NaN</td>\n      <td>NaN</td>\n      <td>NaN</td>\n    </tr>\n    <tr>\n      <th>1</th>\n      <td>10759547</td>\n      <td>NaN</td>\n      <td>NaN</td>\n      <td>NaN</td>\n      <td>0.0</td>\n      <td>0.0</td>\n      <td>NaN</td>\n      <td>NaN</td>\n      <td>NaN</td>\n      <td>NaN</td>\n      <td>NaN</td>\n      <td>NaN</td>\n      <td>NaN</td>\n      <td>NaN</td>\n      <td>NaN</td>\n      <td>NaN</td>\n      <td>NaN</td>\n      <td>6037.0</td>\n      <td>NaN</td>\n      <td>NaN</td>\n      <td>NaN</td>\n      <td>NaN</td>\n      <td>NaN</td>\n      <td>NaN</td>\n      <td>34140430.0</td>\n      <td>-118625364.0</td>\n      <td>4083.0</td>\n      <td>NaN</td>\n      <td>NaN</td>\n      <td>NaN</td>\n      <td>NaN</td>\n      <td>NaN</td>\n      <td>0109</td>\n      <td>261.0</td>\n      <td>LCA11*</td>\n      <td>6.037800e+07</td>\n      <td>37688.0</td>\n      <td>3101.0</td>\n      <td>NaN</td>\n      <td>96337.0</td>\n      <td>0.0</td>\n      <td>NaN</td>\n      <td>NaN</td>\n      <td>NaN</td>\n      <td>NaN</td>\n      <td>NaN</td>\n      <td>NaN</td>\n      <td>NaN</td>\n      <td>NaN</td>\n      <td>NaN</td>\n      <td>NaN</td>\n      <td>27516.0</td>\n      <td>2015.0</td>\n      <td>27516.0</td>\n      <td>NaN</td>\n      <td>NaN</td>\n      <td>NaN</td>\n      <td>NaN</td>\n    </tr>\n    <tr>\n      <th>2</th>\n      <td>10843547</td>\n      <td>NaN</td>\n      <td>NaN</td>\n      <td>NaN</td>\n      <td>0.0</td>\n      <td>0.0</td>\n      <td>5.0</td>\n      <td>NaN</td>\n      <td>NaN</td>\n      <td>NaN</td>\n      <td>NaN</td>\n      <td>73026.0</td>\n      <td>NaN</td>\n      <td>NaN</td>\n      <td>73026.0</td>\n      <td>NaN</td>\n      <td>NaN</td>\n      <td>6037.0</td>\n      <td>NaN</td>\n      <td>NaN</td>\n      <td>NaN</td>\n      <td>NaN</td>\n      <td>NaN</td>\n      <td>NaN</td>\n      <td>33989359.0</td>\n      <td>-118394633.0</td>\n      <td>63085.0</td>\n      <td>NaN</td>\n      <td>NaN</td>\n      <td>NaN</td>\n      <td>NaN</td>\n      <td>NaN</td>\n      <td>1200</td>\n      <td>47.0</td>\n      <td>LAC2</td>\n      <td>6.037703e+07</td>\n      <td>51617.0</td>\n      <td>3101.0</td>\n      <td>NaN</td>\n      <td>96095.0</td>\n      <td>0.0</td>\n      <td>NaN</td>\n      <td>NaN</td>\n      <td>NaN</td>\n      <td>2.0</td>\n      <td>NaN</td>\n      <td>NaN</td>\n      <td>1959.0</td>\n      <td>1.0</td>\n      <td>NaN</td>\n      <td>660680.0</td>\n      <td>1434941.0</td>\n      <td>2016.0</td>\n      <td>774261.0</td>\n      <td>20800.37</td>\n      <td>NaN</td>\n      <td>NaN</td>\n      <td>NaN</td>\n    </tr>\n    <tr>\n      <th>3</th>\n      <td>10859147</td>\n      <td>NaN</td>\n      <td>NaN</td>\n      <td>NaN</td>\n      <td>0.0</td>\n      <td>0.0</td>\n      <td>3.0</td>\n      <td>6.0</td>\n      <td>NaN</td>\n      <td>NaN</td>\n      <td>NaN</td>\n      <td>5068.0</td>\n      <td>NaN</td>\n      <td>NaN</td>\n      <td>5068.0</td>\n      <td>NaN</td>\n      <td>NaN</td>\n      <td>6037.0</td>\n      <td>NaN</td>\n      <td>NaN</td>\n      <td>NaN</td>\n      <td>NaN</td>\n      <td>NaN</td>\n      <td>NaN</td>\n      <td>34148863.0</td>\n      <td>-118437206.0</td>\n      <td>7521.0</td>\n      <td>NaN</td>\n      <td>NaN</td>\n      <td>NaN</td>\n      <td>NaN</td>\n      <td>NaN</td>\n      <td>1200</td>\n      <td>47.0</td>\n      <td>LAC2</td>\n      <td>6.037141e+07</td>\n      <td>12447.0</td>\n      <td>3101.0</td>\n      <td>27080.0</td>\n      <td>96424.0</td>\n      <td>0.0</td>\n      <td>NaN</td>\n      <td>NaN</td>\n      <td>NaN</td>\n      <td>NaN</td>\n      <td>NaN</td>\n      <td>NaN</td>\n      <td>1948.0</td>\n      <td>1.0</td>\n      <td>NaN</td>\n      <td>580059.0</td>\n      <td>1174475.0</td>\n      <td>2016.0</td>\n      <td>594416.0</td>\n      <td>14557.57</td>\n      <td>NaN</td>\n      <td>NaN</td>\n      <td>NaN</td>\n    </tr>\n    <tr>\n      <th>4</th>\n      <td>10879947</td>\n      <td>NaN</td>\n      <td>NaN</td>\n      <td>NaN</td>\n      <td>0.0</td>\n      <td>0.0</td>\n      <td>4.0</td>\n      <td>NaN</td>\n      <td>NaN</td>\n      <td>NaN</td>\n      <td>NaN</td>\n      <td>1776.0</td>\n      <td>NaN</td>\n      <td>NaN</td>\n      <td>1776.0</td>\n      <td>NaN</td>\n      <td>NaN</td>\n      <td>6037.0</td>\n      <td>NaN</td>\n      <td>NaN</td>\n      <td>NaN</td>\n      <td>NaN</td>\n      <td>NaN</td>\n      <td>NaN</td>\n      <td>34194168.0</td>\n      <td>-118385816.0</td>\n      <td>8512.0</td>\n      <td>NaN</td>\n      <td>NaN</td>\n      <td>NaN</td>\n      <td>NaN</td>\n      <td>NaN</td>\n      <td>1210</td>\n      <td>31.0</td>\n      <td>LAM1</td>\n      <td>6.037123e+07</td>\n      <td>12447.0</td>\n      <td>3101.0</td>\n      <td>46795.0</td>\n      <td>96450.0</td>\n      <td>0.0</td>\n      <td>NaN</td>\n      <td>NaN</td>\n      <td>NaN</td>\n      <td>1.0</td>\n      <td>NaN</td>\n      <td>NaN</td>\n      <td>1947.0</td>\n      <td>1.0</td>\n      <td>NaN</td>\n      <td>196751.0</td>\n      <td>440101.0</td>\n      <td>2016.0</td>\n      <td>243350.0</td>\n      <td>5725.17</td>\n      <td>NaN</td>\n      <td>NaN</td>\n      <td>NaN</td>\n    </tr>\n  </tbody>\n</table>\n</div>"
     },
     "execution_count": 4,
     "metadata": {},
     "output_type": "execute_result"
    }
   ],
   "source": [
    "properties_2017.head()"
   ],
   "metadata": {
    "collapsed": false,
    "pycharm": {
     "name": "#%%\n"
    }
   }
  },
  {
   "cell_type": "code",
   "execution_count": 5,
   "outputs": [
    {
     "data": {
      "text/plain": "   parcelid  logerror transactiondate\n0  14297519  0.025595      2017-01-01\n1  17052889  0.055619      2017-01-01\n2  14186244  0.005383      2017-01-01\n3  12177905 -0.103410      2017-01-01\n4  10887214  0.006940      2017-01-01",
      "text/html": "<div>\n<style scoped>\n    .dataframe tbody tr th:only-of-type {\n        vertical-align: middle;\n    }\n\n    .dataframe tbody tr th {\n        vertical-align: top;\n    }\n\n    .dataframe thead th {\n        text-align: right;\n    }\n</style>\n<table border=\"1\" class=\"dataframe\">\n  <thead>\n    <tr style=\"text-align: right;\">\n      <th></th>\n      <th>parcelid</th>\n      <th>logerror</th>\n      <th>transactiondate</th>\n    </tr>\n  </thead>\n  <tbody>\n    <tr>\n      <th>0</th>\n      <td>14297519</td>\n      <td>0.025595</td>\n      <td>2017-01-01</td>\n    </tr>\n    <tr>\n      <th>1</th>\n      <td>17052889</td>\n      <td>0.055619</td>\n      <td>2017-01-01</td>\n    </tr>\n    <tr>\n      <th>2</th>\n      <td>14186244</td>\n      <td>0.005383</td>\n      <td>2017-01-01</td>\n    </tr>\n    <tr>\n      <th>3</th>\n      <td>12177905</td>\n      <td>-0.103410</td>\n      <td>2017-01-01</td>\n    </tr>\n    <tr>\n      <th>4</th>\n      <td>10887214</td>\n      <td>0.006940</td>\n      <td>2017-01-01</td>\n    </tr>\n  </tbody>\n</table>\n</div>"
     },
     "execution_count": 5,
     "metadata": {},
     "output_type": "execute_result"
    }
   ],
   "source": [
    "train_2017.head()"
   ],
   "metadata": {
    "collapsed": false,
    "pycharm": {
     "name": "#%%\n"
    }
   }
  },
  {
   "cell_type": "markdown",
   "source": [
    "Feature description:\n",
    "<faccio lista delle feature>\n",
    "vedo se serve"
   ],
   "metadata": {
    "collapsed": false,
    "pycharm": {
     "name": "#%% md\n"
    }
   }
  },
  {
   "cell_type": "markdown",
   "source": [],
   "metadata": {
    "collapsed": false,
    "pycharm": {
     "name": "#%% md\n"
    }
   }
  },
  {
   "cell_type": "markdown",
   "source": [],
   "metadata": {
    "collapsed": false,
    "pycharm": {
     "name": "#%% md\n"
    }
   }
  },
  {
   "cell_type": "markdown",
   "source": [],
   "metadata": {
    "collapsed": false,
    "pycharm": {
     "name": "#%% md\n"
    }
   }
  },
  {
   "cell_type": "markdown",
   "source": [],
   "metadata": {
    "collapsed": false,
    "pycharm": {
     "name": "#%% md\n"
    }
   }
  },
  {
   "cell_type": "markdown",
   "source": [
    "# Unique and Duplicated values (? è interessante sta parte, pensare se lasciarla, se lo fa anche pier)\n",
    "\n",
    "Train data has some duplicate values, let's analyse those duplicate values to get better understanding."
   ],
   "metadata": {
    "collapsed": false,
    "pycharm": {
     "name": "#%% md\n"
    }
   }
  },
  {
   "cell_type": "code",
   "execution_count": 60,
   "outputs": [],
   "source": [
    "def get_unique(name,data_series):   #non e molto utile ma ok ci penso\n",
    "    print(\"{} has total {} records and {} are unique.\".format(name,len(data_series),len(data_series.unique())))"
   ],
   "metadata": {
    "collapsed": false,
    "pycharm": {
     "name": "#%%\n"
    }
   }
  },
  {
   "cell_type": "code",
   "execution_count": 66,
   "outputs": [
    {
     "name": "stdout",
     "output_type": "stream",
     "text": [
      "merged_df has total 77613 records and 77414 are unique.\n"
     ]
    }
   ],
   "source": [
    "get_unique(\"merged_df\",train_2017[\"parcelid\"])"
   ],
   "metadata": {
    "collapsed": false,
    "pycharm": {
     "name": "#%%\n"
    }
   }
  },
  {
   "cell_type": "code",
   "execution_count": 64,
   "outputs": [
    {
     "name": "stdout",
     "output_type": "stream",
     "text": [
      "All Duplicate Rows based on all columns are :\n"
     ]
    },
    {
     "data": {
      "text/plain": "       parcelid  logerror transactiondate\n116    11393337  0.015172      2017-01-03\n117    11393337  0.086137      2017-06-08\n624    14634203 -0.019491      2017-01-04\n625    14634203 -0.061973      2017-08-04\n1017   11721753 -0.011052      2017-01-05\n...         ...       ...             ...\n63132  12136147 -0.078758      2017-08-31\n64277  17282392 -0.002968      2017-08-07\n64278  17282392  0.901074      2017-08-25\n64943  10984080  0.001824      2017-08-09\n64944  10984080  0.860596      2017-09-12\n\n[395 rows x 3 columns]",
      "text/html": "<div>\n<style scoped>\n    .dataframe tbody tr th:only-of-type {\n        vertical-align: middle;\n    }\n\n    .dataframe tbody tr th {\n        vertical-align: top;\n    }\n\n    .dataframe thead th {\n        text-align: right;\n    }\n</style>\n<table border=\"1\" class=\"dataframe\">\n  <thead>\n    <tr style=\"text-align: right;\">\n      <th></th>\n      <th>parcelid</th>\n      <th>logerror</th>\n      <th>transactiondate</th>\n    </tr>\n  </thead>\n  <tbody>\n    <tr>\n      <th>116</th>\n      <td>11393337</td>\n      <td>0.015172</td>\n      <td>2017-01-03</td>\n    </tr>\n    <tr>\n      <th>117</th>\n      <td>11393337</td>\n      <td>0.086137</td>\n      <td>2017-06-08</td>\n    </tr>\n    <tr>\n      <th>624</th>\n      <td>14634203</td>\n      <td>-0.019491</td>\n      <td>2017-01-04</td>\n    </tr>\n    <tr>\n      <th>625</th>\n      <td>14634203</td>\n      <td>-0.061973</td>\n      <td>2017-08-04</td>\n    </tr>\n    <tr>\n      <th>1017</th>\n      <td>11721753</td>\n      <td>-0.011052</td>\n      <td>2017-01-05</td>\n    </tr>\n    <tr>\n      <th>...</th>\n      <td>...</td>\n      <td>...</td>\n      <td>...</td>\n    </tr>\n    <tr>\n      <th>63132</th>\n      <td>12136147</td>\n      <td>-0.078758</td>\n      <td>2017-08-31</td>\n    </tr>\n    <tr>\n      <th>64277</th>\n      <td>17282392</td>\n      <td>-0.002968</td>\n      <td>2017-08-07</td>\n    </tr>\n    <tr>\n      <th>64278</th>\n      <td>17282392</td>\n      <td>0.901074</td>\n      <td>2017-08-25</td>\n    </tr>\n    <tr>\n      <th>64943</th>\n      <td>10984080</td>\n      <td>0.001824</td>\n      <td>2017-08-09</td>\n    </tr>\n    <tr>\n      <th>64944</th>\n      <td>10984080</td>\n      <td>0.860596</td>\n      <td>2017-09-12</td>\n    </tr>\n  </tbody>\n</table>\n<p>395 rows × 3 columns</p>\n</div>"
     },
     "execution_count": 64,
     "metadata": {},
     "output_type": "execute_result"
    }
   ],
   "source": [
    "#da cancellare\n",
    "duplicateRowsDF = train_2017[train_2017.duplicated([\"parcelid\"],keep=False)]\n",
    "print(\"All Duplicate Rows based on all columns are :\")\n",
    "pd.DataFrame(duplicateRowsDF)"
   ],
   "metadata": {
    "collapsed": false,
    "pycharm": {
     "name": "#%%\n"
    }
   }
  },
  {
   "cell_type": "code",
   "execution_count": 63,
   "outputs": [
    {
     "data": {
      "text/plain": "11991059    3\n10857130    3\n12612211    3\n11393337    2\n12892594    2\n           ..\n14079874    2\n11401519    2\n12607366    2\n12532988    2\n10984080    2\nName: parcelid, Length: 196, dtype: int64"
     },
     "execution_count": 63,
     "metadata": {},
     "output_type": "execute_result"
    }
   ],
   "source": [
    "#da cancellare\n",
    "duplicateRowsDF[\"parcelid\"].value_counts()"
   ],
   "metadata": {
    "collapsed": false,
    "pycharm": {
     "name": "#%%\n"
    }
   }
  },
  {
   "cell_type": "code",
   "execution_count": 65,
   "outputs": [
    {
     "data": {
      "text/plain": "       parcelid  logerror transactiondate\n44961  10857130  0.053244      2017-06-09\n44962  10857130  0.053244      2017-06-30\n44963  10857130  0.290908      2017-08-25",
      "text/html": "<div>\n<style scoped>\n    .dataframe tbody tr th:only-of-type {\n        vertical-align: middle;\n    }\n\n    .dataframe tbody tr th {\n        vertical-align: top;\n    }\n\n    .dataframe thead th {\n        text-align: right;\n    }\n</style>\n<table border=\"1\" class=\"dataframe\">\n  <thead>\n    <tr style=\"text-align: right;\">\n      <th></th>\n      <th>parcelid</th>\n      <th>logerror</th>\n      <th>transactiondate</th>\n    </tr>\n  </thead>\n  <tbody>\n    <tr>\n      <th>44961</th>\n      <td>10857130</td>\n      <td>0.053244</td>\n      <td>2017-06-09</td>\n    </tr>\n    <tr>\n      <th>44962</th>\n      <td>10857130</td>\n      <td>0.053244</td>\n      <td>2017-06-30</td>\n    </tr>\n    <tr>\n      <th>44963</th>\n      <td>10857130</td>\n      <td>0.290908</td>\n      <td>2017-08-25</td>\n    </tr>\n  </tbody>\n</table>\n</div>"
     },
     "execution_count": 65,
     "metadata": {},
     "output_type": "execute_result"
    }
   ],
   "source": [
    "#da cancellare\n",
    "duplicateRowsDF.loc[duplicateRowsDF[\"parcelid\"]==10857130]"
   ],
   "metadata": {
    "collapsed": false,
    "pycharm": {
     "name": "#%%\n"
    }
   }
  },
  {
   "cell_type": "markdown",
   "source": [
    "Here, we can observe that some houses were sold earlier in the year 2016 and after some month they were sold again in the same year. we will consider the last selling price of this type of house."
   ],
   "metadata": {
    "collapsed": false,
    "pycharm": {
     "name": "#%% md\n"
    }
   }
  },
  {
   "cell_type": "code",
   "execution_count": null,
   "outputs": [],
   "source": [
    "#da cancellare\n",
    "# unique_train_data = train_2017.sort_values(\"transactiondate\").drop_duplicates(\"parcelid\",keep = \"last\")"
   ],
   "metadata": {
    "collapsed": false,
    "pycharm": {
     "name": "#%%\n"
    }
   }
  },
  {
   "cell_type": "code",
   "execution_count": null,
   "outputs": [],
   "source": [
    "# get_unique(\"unique_train_data\",unique_train_data[\"parcelid\"])"
   ],
   "metadata": {
    "collapsed": false,
    "pycharm": {
     "name": "#%%\n"
    }
   }
  },
  {
   "cell_type": "markdown",
   "source": [
    "sta parte sopra bisogna vedere se pier la fa, come la gestisce"
   ],
   "metadata": {
    "collapsed": false,
    "pycharm": {
     "name": "#%% md\n"
    }
   }
  },
  {
   "cell_type": "markdown",
   "source": [],
   "metadata": {
    "collapsed": false,
    "pycharm": {
     "name": "#%% md\n"
    }
   }
  },
  {
   "cell_type": "markdown",
   "source": [
    "## poi fa Merging two dataset for modelling"
   ],
   "metadata": {
    "collapsed": false,
    "pycharm": {
     "name": "#%% md\n"
    }
   }
  },
  {
   "cell_type": "code",
   "execution_count": null,
   "outputs": [],
   "source": [
    "# full_data = pd.DataFrame()\n",
    "# full_data = pd.merge(properties_2017,unique_train_data,on=\"parcelid\",how=\"left\")"
   ],
   "metadata": {
    "collapsed": false,
    "pycharm": {
     "name": "#%%\n"
    }
   }
  },
  {
   "cell_type": "code",
   "execution_count": null,
   "outputs": [],
   "source": [
    "# get_unique(\"full_data\",full_data[\"parcelid\"])"
   ],
   "metadata": {
    "collapsed": false,
    "pycharm": {
     "name": "#%%\n"
    }
   }
  },
  {
   "cell_type": "code",
   "execution_count": null,
   "outputs": [],
   "source": [
    "# full_data[\"logerror\"].value_counts().sum()"
   ],
   "metadata": {
    "collapsed": false,
    "pycharm": {
     "name": "#%%\n"
    }
   }
  },
  {
   "cell_type": "markdown",
   "source": [
    "Removing all the rows with null values in target variable since they can not be used in model building."
   ],
   "metadata": {
    "collapsed": false,
    "pycharm": {
     "name": "#%% md\n"
    }
   }
  },
  {
   "cell_type": "code",
   "execution_count": null,
   "outputs": [],
   "source": [
    "# train_data = full_data[full_data[\"logerror\"].notna()]\n",
    "# len(train_data)"
   ],
   "metadata": {
    "collapsed": false,
    "pycharm": {
     "name": "#%%\n"
    }
   }
  },
  {
   "cell_type": "markdown",
   "source": [
    "Dropping columns with missing value more than 30 percent."
   ],
   "metadata": {
    "collapsed": false,
    "pycharm": {
     "name": "#%% md\n"
    }
   }
  },
  {
   "cell_type": "markdown",
   "source": [
    "poi droppa le colonne e fa linear regression prepotente\n",
    "[reference](https://www.kaggle.com/code/runjiexia/zillow-price-linear-regression/edit)"
   ],
   "metadata": {
    "collapsed": false,
    "pycharm": {
     "name": "#%% md\n"
    }
   }
  },
  {
   "cell_type": "markdown",
   "source": [],
   "metadata": {
    "collapsed": false,
    "pycharm": {
     "name": "#%% md\n"
    }
   }
  },
  {
   "cell_type": "markdown",
   "source": [],
   "metadata": {
    "collapsed": false,
    "pycharm": {
     "name": "#%% md\n"
    }
   }
  },
  {
   "cell_type": "markdown",
   "source": [],
   "metadata": {
    "collapsed": false,
    "pycharm": {
     "name": "#%% md\n"
    }
   }
  },
  {
   "cell_type": "markdown",
   "source": [
    "## Target data\n",
    "preso da pier, a che serve?"
   ],
   "metadata": {
    "collapsed": false,
    "pycharm": {
     "name": "#%% md\n"
    }
   }
  },
  {
   "cell_type": "code",
   "execution_count": 5,
   "outputs": [],
   "source": [],
   "metadata": {
    "collapsed": false,
    "pycharm": {
     "name": "#%%\n"
    }
   }
  },
  {
   "cell_type": "markdown",
   "source": [
    "## Get actually used property data\n",
    "#### Observation:\n",
    "\n",
    "The properties and target datasets are merged because a lot of properties in the first dataset aren't included in the second, which is the one that defines what data is necessary for the supervised learning.\n",
    "\n",
    "\n",
    "We can see that parcelid is the unique identifier between the 2 tables. Therefore we will merge the 2 tables based on parcelid to form our complete datatset and then go ahead with other EDA techniques.\n",
    "\n",
    "\n",
    "\n",
    "Merging of the two datasets\n",
    "Understanding the dataset"
   ],
   "metadata": {
    "collapsed": false,
    "pycharm": {
     "name": "#%% md\n"
    }
   }
  },
  {
   "cell_type": "code",
   "execution_count": 6,
   "outputs": [
    {
     "data": {
      "text/plain": "   parcelid  airconditioningtypeid  architecturalstyletypeid  basementsqft  \\\n0  17054981                    NaN                       NaN           NaN   \n1  17055743                    NaN                       NaN           NaN   \n2  17068109                    NaN                       NaN           NaN   \n3  17073952                    NaN                       NaN           NaN   \n4  17078502                    NaN                       NaN           NaN   \n\n   bathroomcnt  bedroomcnt  buildingclasstypeid  buildingqualitytypeid  \\\n0          5.0         4.0                  NaN                    NaN   \n1          2.0         3.0                  NaN                    NaN   \n2          1.5         3.0                  NaN                    NaN   \n3          2.0         2.0                  NaN                    NaN   \n4          1.0         2.0                  NaN                    NaN   \n\n   calculatedbathnbr  decktypeid  finishedfloor1squarefeet  \\\n0                5.0         NaN                    1968.0   \n1                2.0        66.0                    1444.0   \n2                1.5        66.0                    1698.0   \n3                2.0         NaN                     986.0   \n4                1.0         NaN                    1170.0   \n\n   calculatedfinishedsquarefeet  finishedsquarefeet12  finishedsquarefeet13  \\\n0                        3760.0                3760.0                   NaN   \n1                        1444.0                1444.0                   NaN   \n2                        1698.0                1698.0                   NaN   \n3                         986.0                 986.0                   NaN   \n4                        1170.0                1170.0                   NaN   \n\n   finishedsquarefeet15  finishedsquarefeet50  finishedsquarefeet6    fips  \\\n0                   NaN                1968.0                  NaN  6111.0   \n1                   NaN                1444.0                  NaN  6111.0   \n2                   NaN                1698.0                  NaN  6111.0   \n3                   NaN                 986.0                  NaN  6111.0   \n4                   NaN                1170.0                  NaN  6111.0   \n\n   fireplacecnt  fullbathcnt  garagecarcnt  garagetotalsqft hashottuborspa  \\\n0           4.0          5.0           3.0            784.0            NaN   \n1           NaN          2.0           1.0              0.0            NaN   \n2           1.0          1.0           0.0              0.0            NaN   \n3           1.0          2.0           1.0              0.0            NaN   \n4           1.0          1.0           2.0            621.0            NaN   \n\n   heatingorsystemtypeid    latitude    longitude  lotsizesquarefeet  poolcnt  \\\n0                    NaN  34449407.0 -119254052.0            42688.0      1.0   \n1                    NaN  34454169.0 -119237898.0             7108.0      NaN   \n2                    NaN  34365693.0 -119448392.0             2588.0      NaN   \n3                    NaN  34305600.0 -119284000.0                NaN      NaN   \n4                    NaN  34278012.0 -119257047.0             5643.0      NaN   \n\n   poolsizesum  pooltypeid10  pooltypeid2  pooltypeid7  \\\n0        735.0           NaN          NaN          1.0   \n1          NaN           NaN          NaN          NaN   \n2          NaN           NaN          NaN          NaN   \n3          NaN           NaN          NaN          NaN   \n4          NaN           NaN          NaN          NaN   \n\n  propertycountylandusecode  propertylandusetypeid propertyzoningdesc  \\\n0                      1110                  261.0                NaN   \n1                      1110                  261.0                NaN   \n2                      1110                  261.0                NaN   \n3                      1129                  266.0                NaN   \n4                      1110                  261.0                NaN   \n\n   rawcensustractandblock  regionidcity  regionidcounty  regionidneighborhood  \\\n0            6.111001e+07       13091.0          2061.0                   NaN   \n1            6.111001e+07       13091.0          2061.0                   NaN   \n2            6.111001e+07       34543.0          2061.0                   NaN   \n3            6.111002e+07       34543.0          2061.0                   NaN   \n4            6.111002e+07       34543.0          2061.0                   NaN   \n\n   regionidzip  roomcnt  storytypeid  threequarterbathnbr  \\\n0      97099.0     11.0          NaN                  NaN   \n1      97099.0      6.0          NaN                  NaN   \n2      97081.0      6.0          NaN                  1.0   \n3      97081.0      4.0          NaN                  NaN   \n4      97083.0      5.0          NaN                  NaN   \n\n   typeconstructiontypeid  unitcnt  yardbuildingsqft17  yardbuildingsqft26  \\\n0                     NaN      NaN                 NaN                 NaN   \n1                     NaN      NaN                 NaN                 NaN   \n2                     NaN      NaN                 NaN                 NaN   \n3                     NaN      NaN                55.0                 NaN   \n4                     NaN      NaN                 NaN                 NaN   \n\n   yearbuilt  numberofstories fireplaceflag  structuretaxvaluedollarcnt  \\\n0     1982.0              2.0           NaN                    501928.0   \n1     1951.0              1.0           NaN                    130845.0   \n2     1979.0              1.0           NaN                    193413.0   \n3     1989.0              1.0           NaN                     90357.0   \n4     1948.0              1.0           NaN                    148752.0   \n\n   taxvaluedollarcnt  assessmentyear  landtaxvaluedollarcnt  taxamount  \\\n0           872850.0          2016.0               370922.0    9673.46   \n1           436157.0          2016.0               305312.0    5538.80   \n2           286606.0          2016.0                93193.0    2987.36   \n3           258888.0          2016.0               168531.0    2706.24   \n4           592930.0          2016.0               444178.0    6220.70   \n\n  taxdelinquencyflag  taxdelinquencyyear  censustractandblock  logerror  \\\n0                NaN                 NaN         6.111001e+13 -0.013099   \n1                NaN                 NaN         6.111001e+13  0.073985   \n2                NaN                 NaN         6.111001e+13  0.071886   \n3                NaN                 NaN         6.111002e+13  0.305680   \n4                NaN                 NaN         6.111002e+13 -0.073787   \n\n  transactiondate  \n0      2017-06-15  \n1      2017-07-26  \n2      2017-07-28  \n3      2017-06-02  \n4      2017-07-07  ",
      "text/html": "<div>\n<style scoped>\n    .dataframe tbody tr th:only-of-type {\n        vertical-align: middle;\n    }\n\n    .dataframe tbody tr th {\n        vertical-align: top;\n    }\n\n    .dataframe thead th {\n        text-align: right;\n    }\n</style>\n<table border=\"1\" class=\"dataframe\">\n  <thead>\n    <tr style=\"text-align: right;\">\n      <th></th>\n      <th>parcelid</th>\n      <th>airconditioningtypeid</th>\n      <th>architecturalstyletypeid</th>\n      <th>basementsqft</th>\n      <th>bathroomcnt</th>\n      <th>bedroomcnt</th>\n      <th>buildingclasstypeid</th>\n      <th>buildingqualitytypeid</th>\n      <th>calculatedbathnbr</th>\n      <th>decktypeid</th>\n      <th>finishedfloor1squarefeet</th>\n      <th>calculatedfinishedsquarefeet</th>\n      <th>finishedsquarefeet12</th>\n      <th>finishedsquarefeet13</th>\n      <th>finishedsquarefeet15</th>\n      <th>finishedsquarefeet50</th>\n      <th>finishedsquarefeet6</th>\n      <th>fips</th>\n      <th>fireplacecnt</th>\n      <th>fullbathcnt</th>\n      <th>garagecarcnt</th>\n      <th>garagetotalsqft</th>\n      <th>hashottuborspa</th>\n      <th>heatingorsystemtypeid</th>\n      <th>latitude</th>\n      <th>longitude</th>\n      <th>lotsizesquarefeet</th>\n      <th>poolcnt</th>\n      <th>poolsizesum</th>\n      <th>pooltypeid10</th>\n      <th>pooltypeid2</th>\n      <th>pooltypeid7</th>\n      <th>propertycountylandusecode</th>\n      <th>propertylandusetypeid</th>\n      <th>propertyzoningdesc</th>\n      <th>rawcensustractandblock</th>\n      <th>regionidcity</th>\n      <th>regionidcounty</th>\n      <th>regionidneighborhood</th>\n      <th>regionidzip</th>\n      <th>roomcnt</th>\n      <th>storytypeid</th>\n      <th>threequarterbathnbr</th>\n      <th>typeconstructiontypeid</th>\n      <th>unitcnt</th>\n      <th>yardbuildingsqft17</th>\n      <th>yardbuildingsqft26</th>\n      <th>yearbuilt</th>\n      <th>numberofstories</th>\n      <th>fireplaceflag</th>\n      <th>structuretaxvaluedollarcnt</th>\n      <th>taxvaluedollarcnt</th>\n      <th>assessmentyear</th>\n      <th>landtaxvaluedollarcnt</th>\n      <th>taxamount</th>\n      <th>taxdelinquencyflag</th>\n      <th>taxdelinquencyyear</th>\n      <th>censustractandblock</th>\n      <th>logerror</th>\n      <th>transactiondate</th>\n    </tr>\n  </thead>\n  <tbody>\n    <tr>\n      <th>0</th>\n      <td>17054981</td>\n      <td>NaN</td>\n      <td>NaN</td>\n      <td>NaN</td>\n      <td>5.0</td>\n      <td>4.0</td>\n      <td>NaN</td>\n      <td>NaN</td>\n      <td>5.0</td>\n      <td>NaN</td>\n      <td>1968.0</td>\n      <td>3760.0</td>\n      <td>3760.0</td>\n      <td>NaN</td>\n      <td>NaN</td>\n      <td>1968.0</td>\n      <td>NaN</td>\n      <td>6111.0</td>\n      <td>4.0</td>\n      <td>5.0</td>\n      <td>3.0</td>\n      <td>784.0</td>\n      <td>NaN</td>\n      <td>NaN</td>\n      <td>34449407.0</td>\n      <td>-119254052.0</td>\n      <td>42688.0</td>\n      <td>1.0</td>\n      <td>735.0</td>\n      <td>NaN</td>\n      <td>NaN</td>\n      <td>1.0</td>\n      <td>1110</td>\n      <td>261.0</td>\n      <td>NaN</td>\n      <td>6.111001e+07</td>\n      <td>13091.0</td>\n      <td>2061.0</td>\n      <td>NaN</td>\n      <td>97099.0</td>\n      <td>11.0</td>\n      <td>NaN</td>\n      <td>NaN</td>\n      <td>NaN</td>\n      <td>NaN</td>\n      <td>NaN</td>\n      <td>NaN</td>\n      <td>1982.0</td>\n      <td>2.0</td>\n      <td>NaN</td>\n      <td>501928.0</td>\n      <td>872850.0</td>\n      <td>2016.0</td>\n      <td>370922.0</td>\n      <td>9673.46</td>\n      <td>NaN</td>\n      <td>NaN</td>\n      <td>6.111001e+13</td>\n      <td>-0.013099</td>\n      <td>2017-06-15</td>\n    </tr>\n    <tr>\n      <th>1</th>\n      <td>17055743</td>\n      <td>NaN</td>\n      <td>NaN</td>\n      <td>NaN</td>\n      <td>2.0</td>\n      <td>3.0</td>\n      <td>NaN</td>\n      <td>NaN</td>\n      <td>2.0</td>\n      <td>66.0</td>\n      <td>1444.0</td>\n      <td>1444.0</td>\n      <td>1444.0</td>\n      <td>NaN</td>\n      <td>NaN</td>\n      <td>1444.0</td>\n      <td>NaN</td>\n      <td>6111.0</td>\n      <td>NaN</td>\n      <td>2.0</td>\n      <td>1.0</td>\n      <td>0.0</td>\n      <td>NaN</td>\n      <td>NaN</td>\n      <td>34454169.0</td>\n      <td>-119237898.0</td>\n      <td>7108.0</td>\n      <td>NaN</td>\n      <td>NaN</td>\n      <td>NaN</td>\n      <td>NaN</td>\n      <td>NaN</td>\n      <td>1110</td>\n      <td>261.0</td>\n      <td>NaN</td>\n      <td>6.111001e+07</td>\n      <td>13091.0</td>\n      <td>2061.0</td>\n      <td>NaN</td>\n      <td>97099.0</td>\n      <td>6.0</td>\n      <td>NaN</td>\n      <td>NaN</td>\n      <td>NaN</td>\n      <td>NaN</td>\n      <td>NaN</td>\n      <td>NaN</td>\n      <td>1951.0</td>\n      <td>1.0</td>\n      <td>NaN</td>\n      <td>130845.0</td>\n      <td>436157.0</td>\n      <td>2016.0</td>\n      <td>305312.0</td>\n      <td>5538.80</td>\n      <td>NaN</td>\n      <td>NaN</td>\n      <td>6.111001e+13</td>\n      <td>0.073985</td>\n      <td>2017-07-26</td>\n    </tr>\n    <tr>\n      <th>2</th>\n      <td>17068109</td>\n      <td>NaN</td>\n      <td>NaN</td>\n      <td>NaN</td>\n      <td>1.5</td>\n      <td>3.0</td>\n      <td>NaN</td>\n      <td>NaN</td>\n      <td>1.5</td>\n      <td>66.0</td>\n      <td>1698.0</td>\n      <td>1698.0</td>\n      <td>1698.0</td>\n      <td>NaN</td>\n      <td>NaN</td>\n      <td>1698.0</td>\n      <td>NaN</td>\n      <td>6111.0</td>\n      <td>1.0</td>\n      <td>1.0</td>\n      <td>0.0</td>\n      <td>0.0</td>\n      <td>NaN</td>\n      <td>NaN</td>\n      <td>34365693.0</td>\n      <td>-119448392.0</td>\n      <td>2588.0</td>\n      <td>NaN</td>\n      <td>NaN</td>\n      <td>NaN</td>\n      <td>NaN</td>\n      <td>NaN</td>\n      <td>1110</td>\n      <td>261.0</td>\n      <td>NaN</td>\n      <td>6.111001e+07</td>\n      <td>34543.0</td>\n      <td>2061.0</td>\n      <td>NaN</td>\n      <td>97081.0</td>\n      <td>6.0</td>\n      <td>NaN</td>\n      <td>1.0</td>\n      <td>NaN</td>\n      <td>NaN</td>\n      <td>NaN</td>\n      <td>NaN</td>\n      <td>1979.0</td>\n      <td>1.0</td>\n      <td>NaN</td>\n      <td>193413.0</td>\n      <td>286606.0</td>\n      <td>2016.0</td>\n      <td>93193.0</td>\n      <td>2987.36</td>\n      <td>NaN</td>\n      <td>NaN</td>\n      <td>6.111001e+13</td>\n      <td>0.071886</td>\n      <td>2017-07-28</td>\n    </tr>\n    <tr>\n      <th>3</th>\n      <td>17073952</td>\n      <td>NaN</td>\n      <td>NaN</td>\n      <td>NaN</td>\n      <td>2.0</td>\n      <td>2.0</td>\n      <td>NaN</td>\n      <td>NaN</td>\n      <td>2.0</td>\n      <td>NaN</td>\n      <td>986.0</td>\n      <td>986.0</td>\n      <td>986.0</td>\n      <td>NaN</td>\n      <td>NaN</td>\n      <td>986.0</td>\n      <td>NaN</td>\n      <td>6111.0</td>\n      <td>1.0</td>\n      <td>2.0</td>\n      <td>1.0</td>\n      <td>0.0</td>\n      <td>NaN</td>\n      <td>NaN</td>\n      <td>34305600.0</td>\n      <td>-119284000.0</td>\n      <td>NaN</td>\n      <td>NaN</td>\n      <td>NaN</td>\n      <td>NaN</td>\n      <td>NaN</td>\n      <td>NaN</td>\n      <td>1129</td>\n      <td>266.0</td>\n      <td>NaN</td>\n      <td>6.111002e+07</td>\n      <td>34543.0</td>\n      <td>2061.0</td>\n      <td>NaN</td>\n      <td>97081.0</td>\n      <td>4.0</td>\n      <td>NaN</td>\n      <td>NaN</td>\n      <td>NaN</td>\n      <td>NaN</td>\n      <td>55.0</td>\n      <td>NaN</td>\n      <td>1989.0</td>\n      <td>1.0</td>\n      <td>NaN</td>\n      <td>90357.0</td>\n      <td>258888.0</td>\n      <td>2016.0</td>\n      <td>168531.0</td>\n      <td>2706.24</td>\n      <td>NaN</td>\n      <td>NaN</td>\n      <td>6.111002e+13</td>\n      <td>0.305680</td>\n      <td>2017-06-02</td>\n    </tr>\n    <tr>\n      <th>4</th>\n      <td>17078502</td>\n      <td>NaN</td>\n      <td>NaN</td>\n      <td>NaN</td>\n      <td>1.0</td>\n      <td>2.0</td>\n      <td>NaN</td>\n      <td>NaN</td>\n      <td>1.0</td>\n      <td>NaN</td>\n      <td>1170.0</td>\n      <td>1170.0</td>\n      <td>1170.0</td>\n      <td>NaN</td>\n      <td>NaN</td>\n      <td>1170.0</td>\n      <td>NaN</td>\n      <td>6111.0</td>\n      <td>1.0</td>\n      <td>1.0</td>\n      <td>2.0</td>\n      <td>621.0</td>\n      <td>NaN</td>\n      <td>NaN</td>\n      <td>34278012.0</td>\n      <td>-119257047.0</td>\n      <td>5643.0</td>\n      <td>NaN</td>\n      <td>NaN</td>\n      <td>NaN</td>\n      <td>NaN</td>\n      <td>NaN</td>\n      <td>1110</td>\n      <td>261.0</td>\n      <td>NaN</td>\n      <td>6.111002e+07</td>\n      <td>34543.0</td>\n      <td>2061.0</td>\n      <td>NaN</td>\n      <td>97083.0</td>\n      <td>5.0</td>\n      <td>NaN</td>\n      <td>NaN</td>\n      <td>NaN</td>\n      <td>NaN</td>\n      <td>NaN</td>\n      <td>NaN</td>\n      <td>1948.0</td>\n      <td>1.0</td>\n      <td>NaN</td>\n      <td>148752.0</td>\n      <td>592930.0</td>\n      <td>2016.0</td>\n      <td>444178.0</td>\n      <td>6220.70</td>\n      <td>NaN</td>\n      <td>NaN</td>\n      <td>6.111002e+13</td>\n      <td>-0.073787</td>\n      <td>2017-07-07</td>\n    </tr>\n  </tbody>\n</table>\n</div>"
     },
     "execution_count": 6,
     "metadata": {},
     "output_type": "execute_result"
    }
   ],
   "source": [
    "# Reforming Dataset\n",
    "\n",
    "merged_df = properties_2017.copy()\n",
    "merged_df = merged_df.merge(train_2017,on = 'parcelid',how = 'inner')\n",
    "merged_df.head()"
   ],
   "metadata": {
    "collapsed": false,
    "pycharm": {
     "name": "#%%\n"
    }
   }
  },
  {
   "cell_type": "code",
   "execution_count": 7,
   "outputs": [
    {
     "data": {
      "text/plain": "(77613, 60)"
     },
     "execution_count": 7,
     "metadata": {},
     "output_type": "execute_result"
    }
   ],
   "source": [
    "merged_df.shape"
   ],
   "metadata": {
    "collapsed": false,
    "pycharm": {
     "name": "#%%\n"
    }
   }
  },
  {
   "cell_type": "markdown",
   "source": [
    "# Saving the merged dataset"
   ],
   "metadata": {
    "collapsed": false,
    "pycharm": {
     "name": "#%% md\n"
    }
   }
  },
  {
   "cell_type": "code",
   "execution_count": 57,
   "outputs": [],
   "source": [
    "merged_df.to_csv('../data/starting_dataset_2017.csv', index=False)"
   ],
   "metadata": {
    "collapsed": false,
    "pycharm": {
     "name": "#%%\n"
    }
   }
  },
  {
   "cell_type": "markdown",
   "source": [],
   "metadata": {
    "collapsed": false,
    "pycharm": {
     "name": "#%% md\n"
    }
   }
  },
  {
   "cell_type": "markdown",
   "source": [
    "## Exploratory Data Analysis (EDA)\n",
    "(Data Visualization)\n",
    "\n",
    "The reformed dataset contains 77613 rows and 60 columns.\n",
    "\n",
    "Let's analyse the dataset to identify the following:\n",
    "\n",
    "Missing values\n",
    "Distribution of the numerical variables\n",
    "Outliers\n",
    "Distribution of the categorical variables\n",
    "Potential relationship between the variables and the target\n"
   ],
   "metadata": {
    "collapsed": false,
    "pycharm": {
     "name": "#%% md\n"
    }
   }
  },
  {
   "cell_type": "code",
   "execution_count": 8,
   "outputs": [],
   "source": [
    "# Creating a copy of the dataset\n",
    "house_df = merged_df.copy() #perche?"
   ],
   "metadata": {
    "collapsed": false,
    "pycharm": {
     "name": "#%%\n"
    }
   }
  },
  {
   "cell_type": "markdown",
   "source": [
    "## Dataset Information:"
   ],
   "metadata": {
    "collapsed": false,
    "pycharm": {
     "name": "#%% md\n"
    }
   }
  },
  {
   "cell_type": "code",
   "execution_count": 9,
   "outputs": [
    {
     "data": {
      "text/plain": "Index(['parcelid', 'airconditioningtypeid', 'architecturalstyletypeid',\n       'basementsqft', 'bathroomcnt', 'bedroomcnt', 'buildingclasstypeid',\n       'buildingqualitytypeid', 'calculatedbathnbr', 'decktypeid',\n       'finishedfloor1squarefeet', 'calculatedfinishedsquarefeet',\n       'finishedsquarefeet12', 'finishedsquarefeet13', 'finishedsquarefeet15',\n       'finishedsquarefeet50', 'finishedsquarefeet6', 'fips', 'fireplacecnt',\n       'fullbathcnt', 'garagecarcnt', 'garagetotalsqft', 'hashottuborspa',\n       'heatingorsystemtypeid', 'latitude', 'longitude', 'lotsizesquarefeet',\n       'poolcnt', 'poolsizesum', 'pooltypeid10', 'pooltypeid2', 'pooltypeid7',\n       'propertycountylandusecode', 'propertylandusetypeid',\n       'propertyzoningdesc', 'rawcensustractandblock', 'regionidcity',\n       'regionidcounty', 'regionidneighborhood', 'regionidzip', 'roomcnt',\n       'storytypeid', 'threequarterbathnbr', 'typeconstructiontypeid',\n       'unitcnt', 'yardbuildingsqft17', 'yardbuildingsqft26', 'yearbuilt',\n       'numberofstories', 'fireplaceflag', 'structuretaxvaluedollarcnt',\n       'taxvaluedollarcnt', 'assessmentyear', 'landtaxvaluedollarcnt',\n       'taxamount', 'taxdelinquencyflag', 'taxdelinquencyyear',\n       'censustractandblock', 'logerror', 'transactiondate'],\n      dtype='object')"
     },
     "execution_count": 9,
     "metadata": {},
     "output_type": "execute_result"
    }
   ],
   "source": [
    "merged_df.columns"
   ],
   "metadata": {
    "collapsed": false,
    "pycharm": {
     "name": "#%%\n"
    }
   }
  },
  {
   "cell_type": "code",
   "execution_count": 10,
   "outputs": [
    {
     "name": "stdout",
     "output_type": "stream",
     "text": [
      "<class 'pandas.core.frame.DataFrame'>\n",
      "Int64Index: 77613 entries, 0 to 77612\n",
      "Data columns (total 60 columns):\n",
      " #   Column                        Non-Null Count  Dtype  \n",
      "---  ------                        --------------  -----  \n",
      " 0   parcelid                      77613 non-null  int64  \n",
      " 1   airconditioningtypeid         25007 non-null  float64\n",
      " 2   architecturalstyletypeid      207 non-null    float64\n",
      " 3   basementsqft                  50 non-null     float64\n",
      " 4   bathroomcnt                   77579 non-null  float64\n",
      " 5   bedroomcnt                    77579 non-null  float64\n",
      " 6   buildingclasstypeid           15 non-null     float64\n",
      " 7   buildingqualitytypeid         49809 non-null  float64\n",
      " 8   calculatedbathnbr             76963 non-null  float64\n",
      " 9   decktypeid                    614 non-null    float64\n",
      " 10  finishedfloor1squarefeet      6037 non-null   float64\n",
      " 11  calculatedfinishedsquarefeet  77378 non-null  float64\n",
      " 12  finishedsquarefeet12          73923 non-null  float64\n",
      " 13  finishedsquarefeet13          42 non-null     float64\n",
      " 14  finishedsquarefeet15          3027 non-null   float64\n",
      " 15  finishedsquarefeet50          6037 non-null   float64\n",
      " 16  finishedsquarefeet6           386 non-null    float64\n",
      " 17  fips                          77579 non-null  float64\n",
      " 18  fireplacecnt                  8289 non-null   float64\n",
      " 19  fullbathcnt                   76963 non-null  float64\n",
      " 20  garagecarcnt                  25520 non-null  float64\n",
      " 21  garagetotalsqft               25520 non-null  float64\n",
      " 22  hashottuborspa                1539 non-null   object \n",
      " 23  heatingorsystemtypeid         49571 non-null  float64\n",
      " 24  latitude                      77579 non-null  float64\n",
      " 25  longitude                     77579 non-null  float64\n",
      " 26  lotsizesquarefeet             69321 non-null  float64\n",
      " 27  poolcnt                       16174 non-null  float64\n",
      " 28  poolsizesum                   869 non-null    float64\n",
      " 29  pooltypeid10                  465 non-null    float64\n",
      " 30  pooltypeid2                   1074 non-null   float64\n",
      " 31  pooltypeid7                   15079 non-null  float64\n",
      " 32  propertycountylandusecode     77579 non-null  object \n",
      " 33  propertylandusetypeid         77579 non-null  float64\n",
      " 34  propertyzoningdesc            50476 non-null  object \n",
      " 35  rawcensustractandblock        77579 non-null  float64\n",
      " 36  regionidcity                  76107 non-null  float64\n",
      " 37  regionidcounty                77579 non-null  float64\n",
      " 38  regionidneighborhood          30974 non-null  float64\n",
      " 39  regionidzip                   77529 non-null  float64\n",
      " 40  roomcnt                       77579 non-null  float64\n",
      " 41  storytypeid                   50 non-null     float64\n",
      " 42  threequarterbathnbr           10106 non-null  float64\n",
      " 43  typeconstructiontypeid        223 non-null    float64\n",
      " 44  unitcnt                       50703 non-null  float64\n",
      " 45  yardbuildingsqft17            2393 non-null   float64\n",
      " 46  yardbuildingsqft26            70 non-null     float64\n",
      " 47  yearbuilt                     77309 non-null  float64\n",
      " 48  numberofstories               17599 non-null  float64\n",
      " 49  fireplaceflag                 172 non-null    object \n",
      " 50  structuretaxvaluedollarcnt    77464 non-null  float64\n",
      " 51  taxvaluedollarcnt             77578 non-null  float64\n",
      " 52  assessmentyear                77579 non-null  float64\n",
      " 53  landtaxvaluedollarcnt         77577 non-null  float64\n",
      " 54  taxamount                     77574 non-null  float64\n",
      " 55  taxdelinquencyflag            2900 non-null   object \n",
      " 56  taxdelinquencyyear            2900 non-null   float64\n",
      " 57  censustractandblock           77332 non-null  float64\n",
      " 58  logerror                      77613 non-null  float64\n",
      " 59  transactiondate               77613 non-null  object \n",
      "dtypes: float64(53), int64(1), object(6)\n",
      "memory usage: 36.1+ MB\n"
     ]
    }
   ],
   "source": [
    "merged_df.info()"
   ],
   "metadata": {
    "collapsed": false,
    "pycharm": {
     "name": "#%%\n"
    }
   }
  },
  {
   "cell_type": "code",
   "execution_count": 11,
   "outputs": [
    {
     "data": {
      "text/plain": "           parcelid  airconditioningtypeid  architecturalstyletypeid  \\\ncount  7.761300e+04           25007.000000                207.000000   \nmean   1.300781e+07               1.812013                  7.386473   \nstd    3.518717e+06               2.965768                  2.728030   \nmin    1.071186e+07               1.000000                  2.000000   \n25%    1.153821e+07               1.000000                  7.000000   \n50%    1.253004e+07               1.000000                  7.000000   \n75%    1.421101e+07               1.000000                  7.000000   \nmax    1.676893e+08              13.000000                 21.000000   \n\n       basementsqft   bathroomcnt    bedroomcnt  buildingclasstypeid  \\\ncount     50.000000  77579.000000  77579.000000            15.000000   \nmean     679.720000      2.298496      3.053223             3.933333   \nstd      689.703546      0.996732      1.140480             0.258199   \nmin       38.000000      0.000000      0.000000             3.000000   \n25%      273.000000      2.000000      2.000000             4.000000   \n50%      515.000000      2.000000      3.000000             4.000000   \n75%      796.500000      3.000000      4.000000             4.000000   \nmax     3560.000000     18.000000     16.000000             4.000000   \n\n       buildingqualitytypeid  calculatedbathnbr  decktypeid  \\\ncount           49809.000000       76963.000000       614.0   \nmean                6.533779           2.316392        66.0   \nstd                 1.722062           0.979689         0.0   \nmin                 1.000000           1.000000        66.0   \n25%                 6.000000           2.000000        66.0   \n50%                 6.000000           2.000000        66.0   \n75%                 8.000000           3.000000        66.0   \nmax                12.000000          18.000000        66.0   \n\n       finishedfloor1squarefeet  calculatedfinishedsquarefeet  \\\ncount               6037.000000                  77378.000000   \nmean                1366.165314                   1784.935421   \nstd                  670.701336                    954.250373   \nmin                   44.000000                    128.000000   \n25%                  955.000000                   1182.000000   \n50%                 1257.000000                   1542.000000   \n75%                 1615.000000                   2112.000000   \nmax                 6912.000000                  35640.000000   \n\n       finishedsquarefeet12  finishedsquarefeet13  finishedsquarefeet15  \\\ncount          73923.000000             42.000000           3027.000000   \nmean            1760.284553           1388.761905           2354.491245   \nstd              934.352566            122.220874           1186.985442   \nmin              128.000000           1056.000000            598.000000   \n25%             1172.000000           1344.000000           1624.000000   \n50%             1523.000000           1440.000000           2088.000000   \n75%             2075.000000           1440.000000           2831.000000   \nmax            21929.000000           1560.000000          35640.000000   \n\n       finishedsquarefeet50  finishedsquarefeet6          fips  fireplacecnt  \\\ncount           6037.000000           386.000000  77579.000000   8289.000000   \nmean            1381.388935          2082.500000   6048.814151      1.191217   \nstd              725.792665          1240.382784     20.747252      0.490980   \nmin               44.000000           380.000000   6037.000000      1.000000   \n25%              956.000000           993.750000   6037.000000      1.000000   \n50%             1259.000000          1812.500000   6037.000000      1.000000   \n75%             1621.000000          3053.500000   6059.000000      1.000000   \nmax            12467.000000          5598.000000   6111.000000      5.000000   \n\n        fullbathcnt  garagecarcnt  garagetotalsqft  heatingorsystemtypeid  \\\ncount  76963.000000  25520.000000     25520.000000           49571.000000   \nmean       2.250107      1.815282       350.047061               3.921749   \nstd        0.966492      0.588340       261.646070               3.594780   \nmin        1.000000      0.000000         0.000000               1.000000   \n25%        2.000000      2.000000         0.000000               2.000000   \n50%        2.000000      2.000000       436.000000               2.000000   \n75%        3.000000      2.000000       492.000000               7.000000   \nmax       18.000000     14.000000      4251.000000              24.000000   \n\n           latitude     longitude  lotsizesquarefeet  poolcnt  poolsizesum  \\\ncount  7.757900e+04  7.757900e+04       6.932100e+04  16174.0   869.000000   \nmean   3.400837e+07 -1.182037e+08       2.997344e+04      1.0   517.930955   \nstd    2.652873e+05  3.594085e+05       1.233050e+05      0.0   156.569664   \nmin    3.333953e+07 -1.194754e+08       2.360000e+02      1.0    24.000000   \n25%    3.381463e+07 -1.184150e+08       5.700000e+03      1.0   424.000000   \n50%    3.402200e+07 -1.181810e+08       7.206000e+03      1.0   500.000000   \n75%    3.417431e+07 -1.179286e+08       1.183700e+04      1.0   600.000000   \nmax    3.481877e+07 -1.175546e+08       6.971010e+06      1.0  1500.000000   \n\n       pooltypeid10  pooltypeid2  pooltypeid7  propertylandusetypeid  \\\ncount         465.0       1074.0      15079.0           77579.000000   \nmean            1.0          1.0          1.0             261.824476   \nstd             0.0          0.0          0.0               5.141596   \nmin             1.0          1.0          1.0              31.000000   \n25%             1.0          1.0          1.0             261.000000   \n50%             1.0          1.0          1.0             261.000000   \n75%             1.0          1.0          1.0             266.000000   \nmax             1.0          1.0          1.0             275.000000   \n\n       rawcensustractandblock   regionidcity  regionidcounty  \\\ncount            7.757900e+04   76107.000000    77579.000000   \nmean             6.049124e+07   33683.055107     2534.514933   \nstd              2.058962e+05   47211.780350      801.447913   \nmin              6.037101e+07    3491.000000     1286.000000   \n25%              6.037311e+07   12447.000000     1286.000000   \n50%              6.037603e+07   25218.000000     3101.000000   \n75%              6.059042e+07   45457.000000     3101.000000   \nmax              6.111009e+07  396556.000000     3101.000000   \n\n       regionidneighborhood    regionidzip       roomcnt  storytypeid  \\\ncount          30974.000000   77529.000000  77579.000000         50.0   \nmean          187725.110544   96586.692812      1.476276          7.0   \nstd           165045.086058    3793.552065      2.823686          0.0   \nmin             6952.000000   95982.000000      0.000000          7.0   \n25%            46736.000000   96193.000000      0.000000          7.0   \n50%           118849.000000   96389.000000      0.000000          7.0   \n75%           274765.000000   96987.000000      0.000000          7.0   \nmax           764167.000000  399675.000000     15.000000          7.0   \n\n       threequarterbathnbr  typeconstructiontypeid       unitcnt  \\\ncount         10106.000000              223.000000  50703.000000   \nmean              1.009598                6.040359      1.110309   \nstd               0.118572                0.556035      1.169967   \nmin               1.000000                4.000000      1.000000   \n25%               1.000000                6.000000      1.000000   \n50%               1.000000                6.000000      1.000000   \n75%               1.000000                6.000000      1.000000   \nmax               7.000000               13.000000    237.000000   \n\n       yardbuildingsqft17  yardbuildingsqft26     yearbuilt  numberofstories  \\\ncount         2393.000000           70.000000  77309.000000     17599.000000   \nmean           305.460928          216.385714   1968.611507         1.434286   \nstd            238.735241          190.177514     23.793171         0.544515   \nmin             11.000000           12.000000   1824.000000         1.000000   \n25%            170.000000           61.500000   1953.000000         1.000000   \n50%            250.000000          164.500000   1970.000000         1.000000   \n75%            364.000000          310.500000   1987.000000         2.000000   \nmax           3191.000000          868.000000   2016.000000         6.000000   \n\n       structuretaxvaluedollarcnt  taxvaluedollarcnt  assessmentyear  \\\ncount                7.746400e+04       7.757800e+04         77579.0   \nmean                 1.892811e+05       4.901506e+05          2016.0   \nstd                  2.304107e+05       6.537979e+05             0.0   \nmin                  4.400000e+01       1.000000e+03          2016.0   \n25%                  8.417925e+04       2.068985e+05          2016.0   \n50%                  1.364045e+05       3.588785e+05          2016.0   \n75%                  2.187340e+05       5.690000e+05          2016.0   \nmax                  1.142179e+07       4.906124e+07          2016.0   \n\n       landtaxvaluedollarcnt      taxamount  taxdelinquencyyear  \\\ncount           7.757700e+04   77574.000000         2900.000000   \nmean            3.011515e+05    5995.961788           14.088276   \nstd             4.927249e+05    7628.859728            2.181281   \nmin             1.610000e+02      19.920000            3.000000   \n25%             8.529300e+04    2712.630000           14.000000   \n50%             2.031880e+05    4448.265000           15.000000   \n75%             3.667530e+05    6926.917500           15.000000   \nmax             4.895220e+07  586639.300000           99.000000   \n\n       censustractandblock      logerror  \ncount         7.733200e+04  77613.000000  \nmean          6.049667e+13      0.016755  \nstd           1.533339e+12      0.170887  \nmin           6.037101e+13     -4.655420  \n25%           6.037311e+13     -0.024325  \n50%           6.037603e+13      0.006670  \n75%           6.059042e+13      0.039295  \nmax           4.830301e+14      5.262999  ",
      "text/html": "<div>\n<style scoped>\n    .dataframe tbody tr th:only-of-type {\n        vertical-align: middle;\n    }\n\n    .dataframe tbody tr th {\n        vertical-align: top;\n    }\n\n    .dataframe thead th {\n        text-align: right;\n    }\n</style>\n<table border=\"1\" class=\"dataframe\">\n  <thead>\n    <tr style=\"text-align: right;\">\n      <th></th>\n      <th>parcelid</th>\n      <th>airconditioningtypeid</th>\n      <th>architecturalstyletypeid</th>\n      <th>basementsqft</th>\n      <th>bathroomcnt</th>\n      <th>bedroomcnt</th>\n      <th>buildingclasstypeid</th>\n      <th>buildingqualitytypeid</th>\n      <th>calculatedbathnbr</th>\n      <th>decktypeid</th>\n      <th>finishedfloor1squarefeet</th>\n      <th>calculatedfinishedsquarefeet</th>\n      <th>finishedsquarefeet12</th>\n      <th>finishedsquarefeet13</th>\n      <th>finishedsquarefeet15</th>\n      <th>finishedsquarefeet50</th>\n      <th>finishedsquarefeet6</th>\n      <th>fips</th>\n      <th>fireplacecnt</th>\n      <th>fullbathcnt</th>\n      <th>garagecarcnt</th>\n      <th>garagetotalsqft</th>\n      <th>heatingorsystemtypeid</th>\n      <th>latitude</th>\n      <th>longitude</th>\n      <th>lotsizesquarefeet</th>\n      <th>poolcnt</th>\n      <th>poolsizesum</th>\n      <th>pooltypeid10</th>\n      <th>pooltypeid2</th>\n      <th>pooltypeid7</th>\n      <th>propertylandusetypeid</th>\n      <th>rawcensustractandblock</th>\n      <th>regionidcity</th>\n      <th>regionidcounty</th>\n      <th>regionidneighborhood</th>\n      <th>regionidzip</th>\n      <th>roomcnt</th>\n      <th>storytypeid</th>\n      <th>threequarterbathnbr</th>\n      <th>typeconstructiontypeid</th>\n      <th>unitcnt</th>\n      <th>yardbuildingsqft17</th>\n      <th>yardbuildingsqft26</th>\n      <th>yearbuilt</th>\n      <th>numberofstories</th>\n      <th>structuretaxvaluedollarcnt</th>\n      <th>taxvaluedollarcnt</th>\n      <th>assessmentyear</th>\n      <th>landtaxvaluedollarcnt</th>\n      <th>taxamount</th>\n      <th>taxdelinquencyyear</th>\n      <th>censustractandblock</th>\n      <th>logerror</th>\n    </tr>\n  </thead>\n  <tbody>\n    <tr>\n      <th>count</th>\n      <td>7.761300e+04</td>\n      <td>25007.000000</td>\n      <td>207.000000</td>\n      <td>50.000000</td>\n      <td>77579.000000</td>\n      <td>77579.000000</td>\n      <td>15.000000</td>\n      <td>49809.000000</td>\n      <td>76963.000000</td>\n      <td>614.0</td>\n      <td>6037.000000</td>\n      <td>77378.000000</td>\n      <td>73923.000000</td>\n      <td>42.000000</td>\n      <td>3027.000000</td>\n      <td>6037.000000</td>\n      <td>386.000000</td>\n      <td>77579.000000</td>\n      <td>8289.000000</td>\n      <td>76963.000000</td>\n      <td>25520.000000</td>\n      <td>25520.000000</td>\n      <td>49571.000000</td>\n      <td>7.757900e+04</td>\n      <td>7.757900e+04</td>\n      <td>6.932100e+04</td>\n      <td>16174.0</td>\n      <td>869.000000</td>\n      <td>465.0</td>\n      <td>1074.0</td>\n      <td>15079.0</td>\n      <td>77579.000000</td>\n      <td>7.757900e+04</td>\n      <td>76107.000000</td>\n      <td>77579.000000</td>\n      <td>30974.000000</td>\n      <td>77529.000000</td>\n      <td>77579.000000</td>\n      <td>50.0</td>\n      <td>10106.000000</td>\n      <td>223.000000</td>\n      <td>50703.000000</td>\n      <td>2393.000000</td>\n      <td>70.000000</td>\n      <td>77309.000000</td>\n      <td>17599.000000</td>\n      <td>7.746400e+04</td>\n      <td>7.757800e+04</td>\n      <td>77579.0</td>\n      <td>7.757700e+04</td>\n      <td>77574.000000</td>\n      <td>2900.000000</td>\n      <td>7.733200e+04</td>\n      <td>77613.000000</td>\n    </tr>\n    <tr>\n      <th>mean</th>\n      <td>1.300781e+07</td>\n      <td>1.812013</td>\n      <td>7.386473</td>\n      <td>679.720000</td>\n      <td>2.298496</td>\n      <td>3.053223</td>\n      <td>3.933333</td>\n      <td>6.533779</td>\n      <td>2.316392</td>\n      <td>66.0</td>\n      <td>1366.165314</td>\n      <td>1784.935421</td>\n      <td>1760.284553</td>\n      <td>1388.761905</td>\n      <td>2354.491245</td>\n      <td>1381.388935</td>\n      <td>2082.500000</td>\n      <td>6048.814151</td>\n      <td>1.191217</td>\n      <td>2.250107</td>\n      <td>1.815282</td>\n      <td>350.047061</td>\n      <td>3.921749</td>\n      <td>3.400837e+07</td>\n      <td>-1.182037e+08</td>\n      <td>2.997344e+04</td>\n      <td>1.0</td>\n      <td>517.930955</td>\n      <td>1.0</td>\n      <td>1.0</td>\n      <td>1.0</td>\n      <td>261.824476</td>\n      <td>6.049124e+07</td>\n      <td>33683.055107</td>\n      <td>2534.514933</td>\n      <td>187725.110544</td>\n      <td>96586.692812</td>\n      <td>1.476276</td>\n      <td>7.0</td>\n      <td>1.009598</td>\n      <td>6.040359</td>\n      <td>1.110309</td>\n      <td>305.460928</td>\n      <td>216.385714</td>\n      <td>1968.611507</td>\n      <td>1.434286</td>\n      <td>1.892811e+05</td>\n      <td>4.901506e+05</td>\n      <td>2016.0</td>\n      <td>3.011515e+05</td>\n      <td>5995.961788</td>\n      <td>14.088276</td>\n      <td>6.049667e+13</td>\n      <td>0.016755</td>\n    </tr>\n    <tr>\n      <th>std</th>\n      <td>3.518717e+06</td>\n      <td>2.965768</td>\n      <td>2.728030</td>\n      <td>689.703546</td>\n      <td>0.996732</td>\n      <td>1.140480</td>\n      <td>0.258199</td>\n      <td>1.722062</td>\n      <td>0.979689</td>\n      <td>0.0</td>\n      <td>670.701336</td>\n      <td>954.250373</td>\n      <td>934.352566</td>\n      <td>122.220874</td>\n      <td>1186.985442</td>\n      <td>725.792665</td>\n      <td>1240.382784</td>\n      <td>20.747252</td>\n      <td>0.490980</td>\n      <td>0.966492</td>\n      <td>0.588340</td>\n      <td>261.646070</td>\n      <td>3.594780</td>\n      <td>2.652873e+05</td>\n      <td>3.594085e+05</td>\n      <td>1.233050e+05</td>\n      <td>0.0</td>\n      <td>156.569664</td>\n      <td>0.0</td>\n      <td>0.0</td>\n      <td>0.0</td>\n      <td>5.141596</td>\n      <td>2.058962e+05</td>\n      <td>47211.780350</td>\n      <td>801.447913</td>\n      <td>165045.086058</td>\n      <td>3793.552065</td>\n      <td>2.823686</td>\n      <td>0.0</td>\n      <td>0.118572</td>\n      <td>0.556035</td>\n      <td>1.169967</td>\n      <td>238.735241</td>\n      <td>190.177514</td>\n      <td>23.793171</td>\n      <td>0.544515</td>\n      <td>2.304107e+05</td>\n      <td>6.537979e+05</td>\n      <td>0.0</td>\n      <td>4.927249e+05</td>\n      <td>7628.859728</td>\n      <td>2.181281</td>\n      <td>1.533339e+12</td>\n      <td>0.170887</td>\n    </tr>\n    <tr>\n      <th>min</th>\n      <td>1.071186e+07</td>\n      <td>1.000000</td>\n      <td>2.000000</td>\n      <td>38.000000</td>\n      <td>0.000000</td>\n      <td>0.000000</td>\n      <td>3.000000</td>\n      <td>1.000000</td>\n      <td>1.000000</td>\n      <td>66.0</td>\n      <td>44.000000</td>\n      <td>128.000000</td>\n      <td>128.000000</td>\n      <td>1056.000000</td>\n      <td>598.000000</td>\n      <td>44.000000</td>\n      <td>380.000000</td>\n      <td>6037.000000</td>\n      <td>1.000000</td>\n      <td>1.000000</td>\n      <td>0.000000</td>\n      <td>0.000000</td>\n      <td>1.000000</td>\n      <td>3.333953e+07</td>\n      <td>-1.194754e+08</td>\n      <td>2.360000e+02</td>\n      <td>1.0</td>\n      <td>24.000000</td>\n      <td>1.0</td>\n      <td>1.0</td>\n      <td>1.0</td>\n      <td>31.000000</td>\n      <td>6.037101e+07</td>\n      <td>3491.000000</td>\n      <td>1286.000000</td>\n      <td>6952.000000</td>\n      <td>95982.000000</td>\n      <td>0.000000</td>\n      <td>7.0</td>\n      <td>1.000000</td>\n      <td>4.000000</td>\n      <td>1.000000</td>\n      <td>11.000000</td>\n      <td>12.000000</td>\n      <td>1824.000000</td>\n      <td>1.000000</td>\n      <td>4.400000e+01</td>\n      <td>1.000000e+03</td>\n      <td>2016.0</td>\n      <td>1.610000e+02</td>\n      <td>19.920000</td>\n      <td>3.000000</td>\n      <td>6.037101e+13</td>\n      <td>-4.655420</td>\n    </tr>\n    <tr>\n      <th>25%</th>\n      <td>1.153821e+07</td>\n      <td>1.000000</td>\n      <td>7.000000</td>\n      <td>273.000000</td>\n      <td>2.000000</td>\n      <td>2.000000</td>\n      <td>4.000000</td>\n      <td>6.000000</td>\n      <td>2.000000</td>\n      <td>66.0</td>\n      <td>955.000000</td>\n      <td>1182.000000</td>\n      <td>1172.000000</td>\n      <td>1344.000000</td>\n      <td>1624.000000</td>\n      <td>956.000000</td>\n      <td>993.750000</td>\n      <td>6037.000000</td>\n      <td>1.000000</td>\n      <td>2.000000</td>\n      <td>2.000000</td>\n      <td>0.000000</td>\n      <td>2.000000</td>\n      <td>3.381463e+07</td>\n      <td>-1.184150e+08</td>\n      <td>5.700000e+03</td>\n      <td>1.0</td>\n      <td>424.000000</td>\n      <td>1.0</td>\n      <td>1.0</td>\n      <td>1.0</td>\n      <td>261.000000</td>\n      <td>6.037311e+07</td>\n      <td>12447.000000</td>\n      <td>1286.000000</td>\n      <td>46736.000000</td>\n      <td>96193.000000</td>\n      <td>0.000000</td>\n      <td>7.0</td>\n      <td>1.000000</td>\n      <td>6.000000</td>\n      <td>1.000000</td>\n      <td>170.000000</td>\n      <td>61.500000</td>\n      <td>1953.000000</td>\n      <td>1.000000</td>\n      <td>8.417925e+04</td>\n      <td>2.068985e+05</td>\n      <td>2016.0</td>\n      <td>8.529300e+04</td>\n      <td>2712.630000</td>\n      <td>14.000000</td>\n      <td>6.037311e+13</td>\n      <td>-0.024325</td>\n    </tr>\n    <tr>\n      <th>50%</th>\n      <td>1.253004e+07</td>\n      <td>1.000000</td>\n      <td>7.000000</td>\n      <td>515.000000</td>\n      <td>2.000000</td>\n      <td>3.000000</td>\n      <td>4.000000</td>\n      <td>6.000000</td>\n      <td>2.000000</td>\n      <td>66.0</td>\n      <td>1257.000000</td>\n      <td>1542.000000</td>\n      <td>1523.000000</td>\n      <td>1440.000000</td>\n      <td>2088.000000</td>\n      <td>1259.000000</td>\n      <td>1812.500000</td>\n      <td>6037.000000</td>\n      <td>1.000000</td>\n      <td>2.000000</td>\n      <td>2.000000</td>\n      <td>436.000000</td>\n      <td>2.000000</td>\n      <td>3.402200e+07</td>\n      <td>-1.181810e+08</td>\n      <td>7.206000e+03</td>\n      <td>1.0</td>\n      <td>500.000000</td>\n      <td>1.0</td>\n      <td>1.0</td>\n      <td>1.0</td>\n      <td>261.000000</td>\n      <td>6.037603e+07</td>\n      <td>25218.000000</td>\n      <td>3101.000000</td>\n      <td>118849.000000</td>\n      <td>96389.000000</td>\n      <td>0.000000</td>\n      <td>7.0</td>\n      <td>1.000000</td>\n      <td>6.000000</td>\n      <td>1.000000</td>\n      <td>250.000000</td>\n      <td>164.500000</td>\n      <td>1970.000000</td>\n      <td>1.000000</td>\n      <td>1.364045e+05</td>\n      <td>3.588785e+05</td>\n      <td>2016.0</td>\n      <td>2.031880e+05</td>\n      <td>4448.265000</td>\n      <td>15.000000</td>\n      <td>6.037603e+13</td>\n      <td>0.006670</td>\n    </tr>\n    <tr>\n      <th>75%</th>\n      <td>1.421101e+07</td>\n      <td>1.000000</td>\n      <td>7.000000</td>\n      <td>796.500000</td>\n      <td>3.000000</td>\n      <td>4.000000</td>\n      <td>4.000000</td>\n      <td>8.000000</td>\n      <td>3.000000</td>\n      <td>66.0</td>\n      <td>1615.000000</td>\n      <td>2112.000000</td>\n      <td>2075.000000</td>\n      <td>1440.000000</td>\n      <td>2831.000000</td>\n      <td>1621.000000</td>\n      <td>3053.500000</td>\n      <td>6059.000000</td>\n      <td>1.000000</td>\n      <td>3.000000</td>\n      <td>2.000000</td>\n      <td>492.000000</td>\n      <td>7.000000</td>\n      <td>3.417431e+07</td>\n      <td>-1.179286e+08</td>\n      <td>1.183700e+04</td>\n      <td>1.0</td>\n      <td>600.000000</td>\n      <td>1.0</td>\n      <td>1.0</td>\n      <td>1.0</td>\n      <td>266.000000</td>\n      <td>6.059042e+07</td>\n      <td>45457.000000</td>\n      <td>3101.000000</td>\n      <td>274765.000000</td>\n      <td>96987.000000</td>\n      <td>0.000000</td>\n      <td>7.0</td>\n      <td>1.000000</td>\n      <td>6.000000</td>\n      <td>1.000000</td>\n      <td>364.000000</td>\n      <td>310.500000</td>\n      <td>1987.000000</td>\n      <td>2.000000</td>\n      <td>2.187340e+05</td>\n      <td>5.690000e+05</td>\n      <td>2016.0</td>\n      <td>3.667530e+05</td>\n      <td>6926.917500</td>\n      <td>15.000000</td>\n      <td>6.059042e+13</td>\n      <td>0.039295</td>\n    </tr>\n    <tr>\n      <th>max</th>\n      <td>1.676893e+08</td>\n      <td>13.000000</td>\n      <td>21.000000</td>\n      <td>3560.000000</td>\n      <td>18.000000</td>\n      <td>16.000000</td>\n      <td>4.000000</td>\n      <td>12.000000</td>\n      <td>18.000000</td>\n      <td>66.0</td>\n      <td>6912.000000</td>\n      <td>35640.000000</td>\n      <td>21929.000000</td>\n      <td>1560.000000</td>\n      <td>35640.000000</td>\n      <td>12467.000000</td>\n      <td>5598.000000</td>\n      <td>6111.000000</td>\n      <td>5.000000</td>\n      <td>18.000000</td>\n      <td>14.000000</td>\n      <td>4251.000000</td>\n      <td>24.000000</td>\n      <td>3.481877e+07</td>\n      <td>-1.175546e+08</td>\n      <td>6.971010e+06</td>\n      <td>1.0</td>\n      <td>1500.000000</td>\n      <td>1.0</td>\n      <td>1.0</td>\n      <td>1.0</td>\n      <td>275.000000</td>\n      <td>6.111009e+07</td>\n      <td>396556.000000</td>\n      <td>3101.000000</td>\n      <td>764167.000000</td>\n      <td>399675.000000</td>\n      <td>15.000000</td>\n      <td>7.0</td>\n      <td>7.000000</td>\n      <td>13.000000</td>\n      <td>237.000000</td>\n      <td>3191.000000</td>\n      <td>868.000000</td>\n      <td>2016.000000</td>\n      <td>6.000000</td>\n      <td>1.142179e+07</td>\n      <td>4.906124e+07</td>\n      <td>2016.0</td>\n      <td>4.895220e+07</td>\n      <td>586639.300000</td>\n      <td>99.000000</td>\n      <td>4.830301e+14</td>\n      <td>5.262999</td>\n    </tr>\n  </tbody>\n</table>\n</div>"
     },
     "execution_count": 11,
     "metadata": {},
     "output_type": "execute_result"
    }
   ],
   "source": [
    "merged_df.describe()"
   ],
   "metadata": {
    "collapsed": false,
    "pycharm": {
     "name": "#%%\n"
    }
   }
  },
  {
   "cell_type": "markdown",
   "source": [
    "### Missing values\n",
    "Checking for Missing values"
   ],
   "metadata": {
    "collapsed": false,
    "pycharm": {
     "name": "#%% md\n"
    }
   }
  },
  {
   "cell_type": "code",
   "execution_count": 20,
   "outputs": [
    {
     "data": {
      "text/plain": "airconditioningtypeid           52606\narchitecturalstyletypeid        77406\nbasementsqft                    77563\nbathroomcnt                        34\nbedroomcnt                         34\nbuildingclasstypeid             77598\nbuildingqualitytypeid           27804\ncalculatedbathnbr                 650\ndecktypeid                      76999\nfinishedfloor1squarefeet        71576\ncalculatedfinishedsquarefeet      235\nfinishedsquarefeet12             3690\nfinishedsquarefeet13            77571\nfinishedsquarefeet15            74586\nfinishedsquarefeet50            71576\nfinishedsquarefeet6             77227\nfips                               34\nfireplacecnt                    69324\nfullbathcnt                       650\ngaragecarcnt                    52093\ngaragetotalsqft                 52093\nhashottuborspa                  76074\nheatingorsystemtypeid           28042\nlatitude                           34\nlongitude                          34\nlotsizesquarefeet                8292\npoolcnt                         61439\npoolsizesum                     76744\npooltypeid10                    77148\npooltypeid2                     76539\npooltypeid7                     62534\npropertycountylandusecode          34\npropertylandusetypeid              34\npropertyzoningdesc              27137\nrawcensustractandblock             34\nregionidcity                     1506\nregionidcounty                     34\nregionidneighborhood            46639\nregionidzip                        84\nroomcnt                            34\nstorytypeid                     77563\nthreequarterbathnbr             67507\ntypeconstructiontypeid          77390\nunitcnt                         26910\nyardbuildingsqft17              75220\nyardbuildingsqft26              77543\nyearbuilt                         304\nnumberofstories                 60014\nfireplaceflag                   77441\nstructuretaxvaluedollarcnt        149\ntaxvaluedollarcnt                  35\nassessmentyear                     34\nlandtaxvaluedollarcnt              36\ntaxamount                          39\ntaxdelinquencyflag              74713\ntaxdelinquencyyear              74713\ncensustractandblock               281\ndtype: int64"
     },
     "execution_count": 20,
     "metadata": {},
     "output_type": "execute_result"
    }
   ],
   "source": [
    "mis_val = [var for var in merged_df.columns if merged_df[var].isnull().sum()>0]\n",
    "# print(mis_val)  #dovrebbero essere le colonne che contengono null value\n",
    "merged_df[mis_val].isnull().sum()"
   ],
   "metadata": {
    "collapsed": false,
    "pycharm": {
     "name": "#%%\n"
    }
   }
  },
  {
   "cell_type": "code",
   "execution_count": null,
   "outputs": [],
   "source": [
    "print(\"Total no of variables with missing value in the dataset: \", len(mis_val))"
   ],
   "metadata": {
    "collapsed": false,
    "pycharm": {
     "name": "#%%\n"
    }
   }
  },
  {
   "cell_type": "code",
   "execution_count": 24,
   "outputs": [
    {
     "data": {
      "text/plain": "parcelid                         0.000000\nairconditioningtypeid           67.779882\narchitecturalstyletypeid        99.733292\nbasementsqft                    99.935578\nbathroomcnt                      0.043807\nbedroomcnt                       0.043807\nbuildingclasstypeid             99.980673\nbuildingqualitytypeid           35.823895\ncalculatedbathnbr                0.837489\ndecktypeid                      99.208895\nfinishedfloor1squarefeet        92.221664\ncalculatedfinishedsquarefeet     0.302784\nfinishedsquarefeet12             4.754358\nfinishedsquarefeet13            99.945885\nfinishedsquarefeet15            96.099880\nfinishedsquarefeet50            92.221664\nfinishedsquarefeet6             99.502661\nfips                             0.043807\nfireplacecnt                    89.320088\nfullbathcnt                      0.837489\ngaragecarcnt                    67.118910\ngaragetotalsqft                 67.118910\nhashottuborspa                  98.017085\nheatingorsystemtypeid           36.130545\nlatitude                         0.043807\nlongitude                        0.043807\nlotsizesquarefeet               10.683777\npoolcnt                         79.160708\npoolsizesum                     98.880342\npooltypeid10                    99.400874\npooltypeid2                     98.616211\npooltypeid7                     80.571554\npropertycountylandusecode        0.043807\npropertylandusetypeid            0.043807\npropertyzoningdesc              34.964503\nrawcensustractandblock           0.043807\nregionidcity                     1.940397\nregionidcounty                   0.043807\nregionidneighborhood            60.091737\nregionidzip                      0.108229\nroomcnt                          0.043807\nstorytypeid                     99.935578\nthreequarterbathnbr             86.978985\ntypeconstructiontypeid          99.712677\nunitcnt                         34.672027\nyardbuildingsqft17              96.916754\nyardbuildingsqft26              99.909809\nyearbuilt                        0.391687\nnumberofstories                 77.324675\nfireplaceflag                   99.778388\nstructuretaxvaluedollarcnt       0.191978\ntaxvaluedollarcnt                0.045096\nassessmentyear                   0.043807\nlandtaxvaluedollarcnt            0.046384\ntaxamount                        0.050249\ntaxdelinquencyflag              96.263513\ntaxdelinquencyyear              96.263513\ncensustractandblock              0.362053\nlogerror                         0.000000\ntransactiondate                  0.000000\ndtype: float64"
     },
     "execution_count": 24,
     "metadata": {},
     "output_type": "execute_result"
    }
   ],
   "source": [
    "# Missing Values Percentage in total data (tutto il dataset)\n",
    "merged_df.isnull().mean()*100"
   ],
   "metadata": {
    "collapsed": false,
    "pycharm": {
     "name": "#%%\n"
    }
   }
  },
  {
   "cell_type": "markdown",
   "source": [
    "Relationship between missing values and log error (Target Variable)"
   ],
   "metadata": {
    "collapsed": false,
    "pycharm": {
     "name": "#%% md\n"
    }
   }
  },
  {
   "cell_type": "code",
   "execution_count": 27,
   "outputs": [],
   "source": [
    "def analyze_missing_values(df, var):   # non capisco esattamente cosa stampi ?????\n",
    "    new_df = df.copy()\n",
    "\n",
    "    new_df[var] = np.where(new_df[var].isnull(), 1, 0)\n",
    "    # here 1 represents that there is missing value and 0 represents no missing values\n",
    "\n",
    "    new_df.groupby(var)['logerror'].median().plot.bar()\n",
    "\n",
    "    plt.title(var)\n",
    "    plt.show()"
   ],
   "metadata": {
    "collapsed": false,
    "pycharm": {
     "name": "#%%\n"
    }
   }
  },
  {
   "cell_type": "code",
   "execution_count": null,
   "outputs": [],
   "source": [
    "# for var in mis_val:\n",
    "#     analyze_missing_values(merged_df, var)"
   ],
   "metadata": {
    "collapsed": false,
    "pycharm": {
     "name": "#%%\n",
     "is_executing": true
    }
   }
  },
  {
   "cell_type": "code",
   "execution_count": null,
   "outputs": [],
   "source": [],
   "metadata": {
    "collapsed": false,
    "pycharm": {
     "name": "#%%\n"
    }
   }
  },
  {
   "cell_type": "markdown",
   "source": [],
   "metadata": {
    "collapsed": false,
    "pycharm": {
     "name": "#%% md\n"
    }
   }
  },
  {
   "cell_type": "markdown",
   "source": [],
   "metadata": {
    "collapsed": false,
    "pycharm": {
     "name": "#%% md\n"
    }
   }
  },
  {
   "cell_type": "markdown",
   "source": [
    "non so se servano"
   ],
   "metadata": {
    "collapsed": false,
    "pycharm": {
     "name": "#%% md\n"
    }
   }
  },
  {
   "cell_type": "markdown",
   "source": [
    "## Distribution of Numerical variables"
   ],
   "metadata": {
    "collapsed": false,
    "pycharm": {
     "name": "#%% md\n"
    }
   }
  },
  {
   "cell_type": "code",
   "execution_count": 30,
   "outputs": [
    {
     "name": "stdout",
     "output_type": "stream",
     "text": [
      "Total no.of numerical variables in the dataset:  54\n"
     ]
    }
   ],
   "source": [
    "num_vars = [var for var in merged_df.columns if merged_df[var].dtypes!= 'O'] # Non-Object Variables\n",
    "print(\"Total no.of numerical variables in the dataset: \", len(num_vars))"
   ],
   "metadata": {
    "collapsed": false,
    "pycharm": {
     "name": "#%%\n"
    }
   }
  },
  {
   "cell_type": "code",
   "execution_count": 36,
   "outputs": [
    {
     "data": {
      "text/plain": "   parcelid  airconditioningtypeid  architecturalstyletypeid  basementsqft  \\\n0  17054981                    NaN                       NaN           NaN   \n1  17055743                    NaN                       NaN           NaN   \n2  17068109                    NaN                       NaN           NaN   \n3  17073952                    NaN                       NaN           NaN   \n4  17078502                    NaN                       NaN           NaN   \n\n   bathroomcnt  bedroomcnt  buildingclasstypeid  buildingqualitytypeid  \\\n0          5.0         4.0                  NaN                    NaN   \n1          2.0         3.0                  NaN                    NaN   \n2          1.5         3.0                  NaN                    NaN   \n3          2.0         2.0                  NaN                    NaN   \n4          1.0         2.0                  NaN                    NaN   \n\n   calculatedbathnbr  decktypeid  finishedfloor1squarefeet  \\\n0                5.0         NaN                    1968.0   \n1                2.0        66.0                    1444.0   \n2                1.5        66.0                    1698.0   \n3                2.0         NaN                     986.0   \n4                1.0         NaN                    1170.0   \n\n   calculatedfinishedsquarefeet  finishedsquarefeet12  finishedsquarefeet13  \\\n0                        3760.0                3760.0                   NaN   \n1                        1444.0                1444.0                   NaN   \n2                        1698.0                1698.0                   NaN   \n3                         986.0                 986.0                   NaN   \n4                        1170.0                1170.0                   NaN   \n\n   finishedsquarefeet15  finishedsquarefeet50  finishedsquarefeet6    fips  \\\n0                   NaN                1968.0                  NaN  6111.0   \n1                   NaN                1444.0                  NaN  6111.0   \n2                   NaN                1698.0                  NaN  6111.0   \n3                   NaN                 986.0                  NaN  6111.0   \n4                   NaN                1170.0                  NaN  6111.0   \n\n   fireplacecnt  fullbathcnt  garagecarcnt  garagetotalsqft  \\\n0           4.0          5.0           3.0            784.0   \n1           NaN          2.0           1.0              0.0   \n2           1.0          1.0           0.0              0.0   \n3           1.0          2.0           1.0              0.0   \n4           1.0          1.0           2.0            621.0   \n\n   heatingorsystemtypeid    latitude    longitude  lotsizesquarefeet  poolcnt  \\\n0                    NaN  34449407.0 -119254052.0            42688.0      1.0   \n1                    NaN  34454169.0 -119237898.0             7108.0      NaN   \n2                    NaN  34365693.0 -119448392.0             2588.0      NaN   \n3                    NaN  34305600.0 -119284000.0                NaN      NaN   \n4                    NaN  34278012.0 -119257047.0             5643.0      NaN   \n\n   poolsizesum  pooltypeid10  pooltypeid2  pooltypeid7  propertylandusetypeid  \\\n0        735.0           NaN          NaN          1.0                  261.0   \n1          NaN           NaN          NaN          NaN                  261.0   \n2          NaN           NaN          NaN          NaN                  261.0   \n3          NaN           NaN          NaN          NaN                  266.0   \n4          NaN           NaN          NaN          NaN                  261.0   \n\n   rawcensustractandblock  regionidcity  regionidcounty  regionidneighborhood  \\\n0            6.111001e+07       13091.0          2061.0                   NaN   \n1            6.111001e+07       13091.0          2061.0                   NaN   \n2            6.111001e+07       34543.0          2061.0                   NaN   \n3            6.111002e+07       34543.0          2061.0                   NaN   \n4            6.111002e+07       34543.0          2061.0                   NaN   \n\n   regionidzip  roomcnt  storytypeid  threequarterbathnbr  \\\n0      97099.0     11.0          NaN                  NaN   \n1      97099.0      6.0          NaN                  NaN   \n2      97081.0      6.0          NaN                  1.0   \n3      97081.0      4.0          NaN                  NaN   \n4      97083.0      5.0          NaN                  NaN   \n\n   typeconstructiontypeid  unitcnt  yardbuildingsqft17  yardbuildingsqft26  \\\n0                     NaN      NaN                 NaN                 NaN   \n1                     NaN      NaN                 NaN                 NaN   \n2                     NaN      NaN                 NaN                 NaN   \n3                     NaN      NaN                55.0                 NaN   \n4                     NaN      NaN                 NaN                 NaN   \n\n   yearbuilt  numberofstories  structuretaxvaluedollarcnt  taxvaluedollarcnt  \\\n0     1982.0              2.0                    501928.0           872850.0   \n1     1951.0              1.0                    130845.0           436157.0   \n2     1979.0              1.0                    193413.0           286606.0   \n3     1989.0              1.0                     90357.0           258888.0   \n4     1948.0              1.0                    148752.0           592930.0   \n\n   assessmentyear  landtaxvaluedollarcnt  taxamount  taxdelinquencyyear  \\\n0          2016.0               370922.0    9673.46                 NaN   \n1          2016.0               305312.0    5538.80                 NaN   \n2          2016.0                93193.0    2987.36                 NaN   \n3          2016.0               168531.0    2706.24                 NaN   \n4          2016.0               444178.0    6220.70                 NaN   \n\n   censustractandblock  logerror  \n0         6.111001e+13 -0.013099  \n1         6.111001e+13  0.073985  \n2         6.111001e+13  0.071886  \n3         6.111002e+13  0.305680  \n4         6.111002e+13 -0.073787  ",
      "text/html": "<div>\n<style scoped>\n    .dataframe tbody tr th:only-of-type {\n        vertical-align: middle;\n    }\n\n    .dataframe tbody tr th {\n        vertical-align: top;\n    }\n\n    .dataframe thead th {\n        text-align: right;\n    }\n</style>\n<table border=\"1\" class=\"dataframe\">\n  <thead>\n    <tr style=\"text-align: right;\">\n      <th></th>\n      <th>parcelid</th>\n      <th>airconditioningtypeid</th>\n      <th>architecturalstyletypeid</th>\n      <th>basementsqft</th>\n      <th>bathroomcnt</th>\n      <th>bedroomcnt</th>\n      <th>buildingclasstypeid</th>\n      <th>buildingqualitytypeid</th>\n      <th>calculatedbathnbr</th>\n      <th>decktypeid</th>\n      <th>finishedfloor1squarefeet</th>\n      <th>calculatedfinishedsquarefeet</th>\n      <th>finishedsquarefeet12</th>\n      <th>finishedsquarefeet13</th>\n      <th>finishedsquarefeet15</th>\n      <th>finishedsquarefeet50</th>\n      <th>finishedsquarefeet6</th>\n      <th>fips</th>\n      <th>fireplacecnt</th>\n      <th>fullbathcnt</th>\n      <th>garagecarcnt</th>\n      <th>garagetotalsqft</th>\n      <th>heatingorsystemtypeid</th>\n      <th>latitude</th>\n      <th>longitude</th>\n      <th>lotsizesquarefeet</th>\n      <th>poolcnt</th>\n      <th>poolsizesum</th>\n      <th>pooltypeid10</th>\n      <th>pooltypeid2</th>\n      <th>pooltypeid7</th>\n      <th>propertylandusetypeid</th>\n      <th>rawcensustractandblock</th>\n      <th>regionidcity</th>\n      <th>regionidcounty</th>\n      <th>regionidneighborhood</th>\n      <th>regionidzip</th>\n      <th>roomcnt</th>\n      <th>storytypeid</th>\n      <th>threequarterbathnbr</th>\n      <th>typeconstructiontypeid</th>\n      <th>unitcnt</th>\n      <th>yardbuildingsqft17</th>\n      <th>yardbuildingsqft26</th>\n      <th>yearbuilt</th>\n      <th>numberofstories</th>\n      <th>structuretaxvaluedollarcnt</th>\n      <th>taxvaluedollarcnt</th>\n      <th>assessmentyear</th>\n      <th>landtaxvaluedollarcnt</th>\n      <th>taxamount</th>\n      <th>taxdelinquencyyear</th>\n      <th>censustractandblock</th>\n      <th>logerror</th>\n    </tr>\n  </thead>\n  <tbody>\n    <tr>\n      <th>0</th>\n      <td>17054981</td>\n      <td>NaN</td>\n      <td>NaN</td>\n      <td>NaN</td>\n      <td>5.0</td>\n      <td>4.0</td>\n      <td>NaN</td>\n      <td>NaN</td>\n      <td>5.0</td>\n      <td>NaN</td>\n      <td>1968.0</td>\n      <td>3760.0</td>\n      <td>3760.0</td>\n      <td>NaN</td>\n      <td>NaN</td>\n      <td>1968.0</td>\n      <td>NaN</td>\n      <td>6111.0</td>\n      <td>4.0</td>\n      <td>5.0</td>\n      <td>3.0</td>\n      <td>784.0</td>\n      <td>NaN</td>\n      <td>34449407.0</td>\n      <td>-119254052.0</td>\n      <td>42688.0</td>\n      <td>1.0</td>\n      <td>735.0</td>\n      <td>NaN</td>\n      <td>NaN</td>\n      <td>1.0</td>\n      <td>261.0</td>\n      <td>6.111001e+07</td>\n      <td>13091.0</td>\n      <td>2061.0</td>\n      <td>NaN</td>\n      <td>97099.0</td>\n      <td>11.0</td>\n      <td>NaN</td>\n      <td>NaN</td>\n      <td>NaN</td>\n      <td>NaN</td>\n      <td>NaN</td>\n      <td>NaN</td>\n      <td>1982.0</td>\n      <td>2.0</td>\n      <td>501928.0</td>\n      <td>872850.0</td>\n      <td>2016.0</td>\n      <td>370922.0</td>\n      <td>9673.46</td>\n      <td>NaN</td>\n      <td>6.111001e+13</td>\n      <td>-0.013099</td>\n    </tr>\n    <tr>\n      <th>1</th>\n      <td>17055743</td>\n      <td>NaN</td>\n      <td>NaN</td>\n      <td>NaN</td>\n      <td>2.0</td>\n      <td>3.0</td>\n      <td>NaN</td>\n      <td>NaN</td>\n      <td>2.0</td>\n      <td>66.0</td>\n      <td>1444.0</td>\n      <td>1444.0</td>\n      <td>1444.0</td>\n      <td>NaN</td>\n      <td>NaN</td>\n      <td>1444.0</td>\n      <td>NaN</td>\n      <td>6111.0</td>\n      <td>NaN</td>\n      <td>2.0</td>\n      <td>1.0</td>\n      <td>0.0</td>\n      <td>NaN</td>\n      <td>34454169.0</td>\n      <td>-119237898.0</td>\n      <td>7108.0</td>\n      <td>NaN</td>\n      <td>NaN</td>\n      <td>NaN</td>\n      <td>NaN</td>\n      <td>NaN</td>\n      <td>261.0</td>\n      <td>6.111001e+07</td>\n      <td>13091.0</td>\n      <td>2061.0</td>\n      <td>NaN</td>\n      <td>97099.0</td>\n      <td>6.0</td>\n      <td>NaN</td>\n      <td>NaN</td>\n      <td>NaN</td>\n      <td>NaN</td>\n      <td>NaN</td>\n      <td>NaN</td>\n      <td>1951.0</td>\n      <td>1.0</td>\n      <td>130845.0</td>\n      <td>436157.0</td>\n      <td>2016.0</td>\n      <td>305312.0</td>\n      <td>5538.80</td>\n      <td>NaN</td>\n      <td>6.111001e+13</td>\n      <td>0.073985</td>\n    </tr>\n    <tr>\n      <th>2</th>\n      <td>17068109</td>\n      <td>NaN</td>\n      <td>NaN</td>\n      <td>NaN</td>\n      <td>1.5</td>\n      <td>3.0</td>\n      <td>NaN</td>\n      <td>NaN</td>\n      <td>1.5</td>\n      <td>66.0</td>\n      <td>1698.0</td>\n      <td>1698.0</td>\n      <td>1698.0</td>\n      <td>NaN</td>\n      <td>NaN</td>\n      <td>1698.0</td>\n      <td>NaN</td>\n      <td>6111.0</td>\n      <td>1.0</td>\n      <td>1.0</td>\n      <td>0.0</td>\n      <td>0.0</td>\n      <td>NaN</td>\n      <td>34365693.0</td>\n      <td>-119448392.0</td>\n      <td>2588.0</td>\n      <td>NaN</td>\n      <td>NaN</td>\n      <td>NaN</td>\n      <td>NaN</td>\n      <td>NaN</td>\n      <td>261.0</td>\n      <td>6.111001e+07</td>\n      <td>34543.0</td>\n      <td>2061.0</td>\n      <td>NaN</td>\n      <td>97081.0</td>\n      <td>6.0</td>\n      <td>NaN</td>\n      <td>1.0</td>\n      <td>NaN</td>\n      <td>NaN</td>\n      <td>NaN</td>\n      <td>NaN</td>\n      <td>1979.0</td>\n      <td>1.0</td>\n      <td>193413.0</td>\n      <td>286606.0</td>\n      <td>2016.0</td>\n      <td>93193.0</td>\n      <td>2987.36</td>\n      <td>NaN</td>\n      <td>6.111001e+13</td>\n      <td>0.071886</td>\n    </tr>\n    <tr>\n      <th>3</th>\n      <td>17073952</td>\n      <td>NaN</td>\n      <td>NaN</td>\n      <td>NaN</td>\n      <td>2.0</td>\n      <td>2.0</td>\n      <td>NaN</td>\n      <td>NaN</td>\n      <td>2.0</td>\n      <td>NaN</td>\n      <td>986.0</td>\n      <td>986.0</td>\n      <td>986.0</td>\n      <td>NaN</td>\n      <td>NaN</td>\n      <td>986.0</td>\n      <td>NaN</td>\n      <td>6111.0</td>\n      <td>1.0</td>\n      <td>2.0</td>\n      <td>1.0</td>\n      <td>0.0</td>\n      <td>NaN</td>\n      <td>34305600.0</td>\n      <td>-119284000.0</td>\n      <td>NaN</td>\n      <td>NaN</td>\n      <td>NaN</td>\n      <td>NaN</td>\n      <td>NaN</td>\n      <td>NaN</td>\n      <td>266.0</td>\n      <td>6.111002e+07</td>\n      <td>34543.0</td>\n      <td>2061.0</td>\n      <td>NaN</td>\n      <td>97081.0</td>\n      <td>4.0</td>\n      <td>NaN</td>\n      <td>NaN</td>\n      <td>NaN</td>\n      <td>NaN</td>\n      <td>55.0</td>\n      <td>NaN</td>\n      <td>1989.0</td>\n      <td>1.0</td>\n      <td>90357.0</td>\n      <td>258888.0</td>\n      <td>2016.0</td>\n      <td>168531.0</td>\n      <td>2706.24</td>\n      <td>NaN</td>\n      <td>6.111002e+13</td>\n      <td>0.305680</td>\n    </tr>\n    <tr>\n      <th>4</th>\n      <td>17078502</td>\n      <td>NaN</td>\n      <td>NaN</td>\n      <td>NaN</td>\n      <td>1.0</td>\n      <td>2.0</td>\n      <td>NaN</td>\n      <td>NaN</td>\n      <td>1.0</td>\n      <td>NaN</td>\n      <td>1170.0</td>\n      <td>1170.0</td>\n      <td>1170.0</td>\n      <td>NaN</td>\n      <td>NaN</td>\n      <td>1170.0</td>\n      <td>NaN</td>\n      <td>6111.0</td>\n      <td>1.0</td>\n      <td>1.0</td>\n      <td>2.0</td>\n      <td>621.0</td>\n      <td>NaN</td>\n      <td>34278012.0</td>\n      <td>-119257047.0</td>\n      <td>5643.0</td>\n      <td>NaN</td>\n      <td>NaN</td>\n      <td>NaN</td>\n      <td>NaN</td>\n      <td>NaN</td>\n      <td>261.0</td>\n      <td>6.111002e+07</td>\n      <td>34543.0</td>\n      <td>2061.0</td>\n      <td>NaN</td>\n      <td>97083.0</td>\n      <td>5.0</td>\n      <td>NaN</td>\n      <td>NaN</td>\n      <td>NaN</td>\n      <td>NaN</td>\n      <td>NaN</td>\n      <td>NaN</td>\n      <td>1948.0</td>\n      <td>1.0</td>\n      <td>148752.0</td>\n      <td>592930.0</td>\n      <td>2016.0</td>\n      <td>444178.0</td>\n      <td>6220.70</td>\n      <td>NaN</td>\n      <td>6.111002e+13</td>\n      <td>-0.073787</td>\n    </tr>\n  </tbody>\n</table>\n</div>"
     },
     "execution_count": 36,
     "metadata": {},
     "output_type": "execute_result"
    }
   ],
   "source": [
    "merged_df[num_vars].head()"
   ],
   "metadata": {
    "collapsed": false,
    "pycharm": {
     "name": "#%%\n"
    }
   }
  },
  {
   "cell_type": "markdown",
   "source": [
    "## Distribution of Categorical variables"
   ],
   "metadata": {
    "collapsed": false,
    "pycharm": {
     "name": "#%% md\n"
    }
   }
  },
  {
   "cell_type": "code",
   "execution_count": 38,
   "outputs": [
    {
     "name": "stdout",
     "output_type": "stream",
     "text": [
      "Total no.of categorical variables in the dataset:  6\n"
     ]
    }
   ],
   "source": [
    "cat_vars = [var for var in merged_df.columns if merged_df[var].dtypes == 'O'] # Object Variables\n",
    "print(\"Total no.of categorical variables in the dataset: \", len(cat_vars))"
   ],
   "metadata": {
    "collapsed": false,
    "pycharm": {
     "name": "#%%\n"
    }
   }
  },
  {
   "cell_type": "code",
   "execution_count": 39,
   "outputs": [
    {
     "data": {
      "text/plain": "  hashottuborspa propertycountylandusecode propertyzoningdesc fireplaceflag  \\\n0            NaN                      1110                NaN           NaN   \n1            NaN                      1110                NaN           NaN   \n2            NaN                      1110                NaN           NaN   \n3            NaN                      1129                NaN           NaN   \n4            NaN                      1110                NaN           NaN   \n\n  taxdelinquencyflag transactiondate  \n0                NaN      2017-06-15  \n1                NaN      2017-07-26  \n2                NaN      2017-07-28  \n3                NaN      2017-06-02  \n4                NaN      2017-07-07  ",
      "text/html": "<div>\n<style scoped>\n    .dataframe tbody tr th:only-of-type {\n        vertical-align: middle;\n    }\n\n    .dataframe tbody tr th {\n        vertical-align: top;\n    }\n\n    .dataframe thead th {\n        text-align: right;\n    }\n</style>\n<table border=\"1\" class=\"dataframe\">\n  <thead>\n    <tr style=\"text-align: right;\">\n      <th></th>\n      <th>hashottuborspa</th>\n      <th>propertycountylandusecode</th>\n      <th>propertyzoningdesc</th>\n      <th>fireplaceflag</th>\n      <th>taxdelinquencyflag</th>\n      <th>transactiondate</th>\n    </tr>\n  </thead>\n  <tbody>\n    <tr>\n      <th>0</th>\n      <td>NaN</td>\n      <td>1110</td>\n      <td>NaN</td>\n      <td>NaN</td>\n      <td>NaN</td>\n      <td>2017-06-15</td>\n    </tr>\n    <tr>\n      <th>1</th>\n      <td>NaN</td>\n      <td>1110</td>\n      <td>NaN</td>\n      <td>NaN</td>\n      <td>NaN</td>\n      <td>2017-07-26</td>\n    </tr>\n    <tr>\n      <th>2</th>\n      <td>NaN</td>\n      <td>1110</td>\n      <td>NaN</td>\n      <td>NaN</td>\n      <td>NaN</td>\n      <td>2017-07-28</td>\n    </tr>\n    <tr>\n      <th>3</th>\n      <td>NaN</td>\n      <td>1129</td>\n      <td>NaN</td>\n      <td>NaN</td>\n      <td>NaN</td>\n      <td>2017-06-02</td>\n    </tr>\n    <tr>\n      <th>4</th>\n      <td>NaN</td>\n      <td>1110</td>\n      <td>NaN</td>\n      <td>NaN</td>\n      <td>NaN</td>\n      <td>2017-07-07</td>\n    </tr>\n  </tbody>\n</table>\n</div>"
     },
     "execution_count": 39,
     "metadata": {},
     "output_type": "execute_result"
    }
   ],
   "source": [
    "merged_df[cat_vars].head()"
   ],
   "metadata": {
    "collapsed": false,
    "pycharm": {
     "name": "#%%\n"
    }
   }
  },
  {
   "cell_type": "code",
   "execution_count": 40,
   "outputs": [
    {
     "name": "stdout",
     "output_type": "stream",
     "text": [
      "hashottuborspa --> 2 Categories\n",
      "propertycountylandusecode --> 76 Categories\n",
      "propertyzoningdesc --> 1908 Categories\n",
      "fireplaceflag --> 2 Categories\n",
      "taxdelinquencyflag --> 2 Categories\n",
      "transactiondate --> 264 Categories\n"
     ]
    }
   ],
   "source": [
    "for var in cat_vars:\n",
    "    print(var,'-->', len(merged_df[var].unique()), \"Categories\")"
   ],
   "metadata": {
    "collapsed": false,
    "pycharm": {
     "name": "#%%\n"
    }
   }
  },
  {
   "cell_type": "code",
   "execution_count": 41,
   "outputs": [],
   "source": [
    "### Analyzing Rarely occuring Labels\n",
    "\n",
    "def analyze_rare_labels(df, var, rare_percentage):\n",
    "    new_df = df.copy()\n",
    "\n",
    "    # determine the % of observations per category\n",
    "    tmp = new_df.groupby(var)['logerror'].count() / len(new_df)\n",
    "\n",
    "    # return categories that are rare\n",
    "    return tmp[tmp < rare_percentage]"
   ],
   "metadata": {
    "collapsed": false,
    "pycharm": {
     "name": "#%%\n"
    }
   }
  },
  {
   "cell_type": "code",
   "execution_count": 43,
   "outputs": [
    {
     "name": "stdout",
     "output_type": "stream",
     "text": [
      "Series([], Name: logerror, dtype: float64)\n",
      "\n",
      "propertycountylandusecode\n",
      "0102    0.000039\n",
      "0103    0.001172\n",
      "0104    0.004754\n",
      "0105    0.000039\n",
      "0108    0.000734\n",
      "          ...   \n",
      "1720    0.000090\n",
      "1722    0.000026\n",
      "38      0.001211\n",
      "73      0.000116\n",
      "96      0.001172\n",
      "Name: logerror, Length: 63, dtype: float64\n",
      "\n",
      "propertyzoningdesc\n",
      "1NR1*         0.000064\n",
      "1NR3*         0.000039\n",
      "AH RM-CD*     0.000064\n",
      "AH RM-CD-F    0.000013\n",
      "AH RS-(3)-    0.000013\n",
      "                ...   \n",
      "WVRPD40000    0.000013\n",
      "WVRPD4OOOO    0.000103\n",
      "WVRPD56*      0.000039\n",
      "WVRR          0.000026\n",
      "WVRR1-RPD1    0.000052\n",
      "Name: logerror, Length: 1899, dtype: float64\n",
      "\n",
      "fireplaceflag\n",
      "True    0.002216\n",
      "Name: logerror, dtype: float64\n",
      "\n",
      "Series([], Name: logerror, dtype: float64)\n",
      "\n",
      "transactiondate\n",
      "2017-01-01    0.000103\n",
      "2017-01-02    0.001237\n",
      "2017-01-03    0.003865\n",
      "2017-01-04    0.004110\n",
      "2017-01-05    0.005102\n",
      "                ...   \n",
      "2017-09-18    0.002268\n",
      "2017-09-19    0.003517\n",
      "2017-09-20    0.000026\n",
      "2017-09-21    0.000026\n",
      "2017-09-25    0.000013\n",
      "Name: logerror, Length: 259, dtype: float64\n",
      "\n"
     ]
    }
   ],
   "source": [
    "# print categories that are present in less than 1% of the observations    #??????????\n",
    "for var in cat_vars:\n",
    "    print(analyze_rare_labels(merged_df, var, 0.01))\n",
    "    print()"
   ],
   "metadata": {
    "collapsed": false,
    "pycharm": {
     "name": "#%%\n"
    }
   }
  },
  {
   "cell_type": "markdown",
   "source": [
    "#### Temporal variables assosciated with time"
   ],
   "metadata": {
    "collapsed": false,
    "pycharm": {
     "name": "#%% md\n"
    }
   }
  },
  {
   "cell_type": "code",
   "execution_count": 44,
   "outputs": [
    {
     "data": {
      "text/plain": "(3, ['yearbuilt', 'assessmentyear', 'taxdelinquencyyear'])"
     },
     "execution_count": 44,
     "metadata": {},
     "output_type": "execute_result"
    }
   ],
   "source": [
    "year_var = [var for var in num_vars if 'Yr' in var or 'year' in var ]\n",
    "len(year_var), year_var"
   ],
   "metadata": {
    "collapsed": false,
    "pycharm": {
     "name": "#%%\n"
    }
   }
  },
  {
   "cell_type": "markdown",
   "source": [
    "#### Relationship between Temporal variables and Log error"
   ],
   "metadata": {
    "collapsed": false,
    "pycharm": {
     "name": "#%% md\n"
    }
   }
  },
  {
   "cell_type": "code",
   "execution_count": 45,
   "outputs": [
    {
     "data": {
      "text/plain": "Text(0.5, 1.0, 'Year Difference vs Logerror')"
     },
     "execution_count": 45,
     "metadata": {},
     "output_type": "execute_result"
    },
    {
     "data": {
      "text/plain": "<Figure size 432x288 with 1 Axes>",
      "image/png": "[encoded data removed]"
     },
     "metadata": {
      "needs_background": "light"
     },
     "output_type": "display_data"
    }
   ],
   "source": [
    "new_df = merged_df.copy()\n",
    "\n",
    "# Difference between year variable and year the house was sold\n",
    "new_df[var] = new_df['assessmentyear'] - new_df['yearbuilt']\n",
    "\n",
    "plt.scatter(new_df[var],new_df['logerror'])\n",
    "plt.xlabel('Year Difference')\n",
    "plt.ylabel('Logerror')\n",
    "plt.title('Year Difference vs Logerror')"
   ],
   "metadata": {
    "collapsed": false,
    "pycharm": {
     "name": "#%%\n"
    }
   }
  },
  {
   "cell_type": "markdown",
   "source": [
    "## Distribution of Discrete variables"
   ],
   "metadata": {
    "collapsed": false,
    "pycharm": {
     "name": "#%% md\n"
    }
   }
  },
  {
   "cell_type": "code",
   "execution_count": 46,
   "outputs": [
    {
     "name": "stdout",
     "output_type": "stream",
     "text": [
      "No.of discrete variables:  26\n"
     ]
    }
   ],
   "source": [
    "discrete_vars = [var for var in num_vars if len(merged_df[var].unique()) < 20]\n",
    "\n",
    "print('No.of discrete variables: ', len(discrete_vars))"
   ],
   "metadata": {
    "collapsed": false,
    "pycharm": {
     "name": "#%%\n"
    }
   }
  },
  {
   "cell_type": "code",
   "execution_count": 47,
   "outputs": [
    {
     "data": {
      "text/plain": "   airconditioningtypeid  architecturalstyletypeid  bedroomcnt  \\\n0                    NaN                       NaN         4.0   \n1                    NaN                       NaN         3.0   \n2                    NaN                       NaN         3.0   \n3                    NaN                       NaN         2.0   \n4                    NaN                       NaN         2.0   \n\n   buildingclasstypeid  buildingqualitytypeid  decktypeid  \\\n0                  NaN                    NaN         NaN   \n1                  NaN                    NaN        66.0   \n2                  NaN                    NaN        66.0   \n3                  NaN                    NaN         NaN   \n4                  NaN                    NaN         NaN   \n\n   finishedsquarefeet13    fips  fireplacecnt  fullbathcnt  garagecarcnt  \\\n0                   NaN  6111.0           4.0          5.0           3.0   \n1                   NaN  6111.0           NaN          2.0           1.0   \n2                   NaN  6111.0           1.0          1.0           0.0   \n3                   NaN  6111.0           1.0          2.0           1.0   \n4                   NaN  6111.0           1.0          1.0           2.0   \n\n   heatingorsystemtypeid  poolcnt  pooltypeid10  pooltypeid2  pooltypeid7  \\\n0                    NaN      1.0           NaN          NaN          1.0   \n1                    NaN      NaN           NaN          NaN          NaN   \n2                    NaN      NaN           NaN          NaN          NaN   \n3                    NaN      NaN           NaN          NaN          NaN   \n4                    NaN      NaN           NaN          NaN          NaN   \n\n   propertylandusetypeid  regionidcounty  roomcnt  storytypeid  \\\n0                  261.0          2061.0     11.0          NaN   \n1                  261.0          2061.0      6.0          NaN   \n2                  261.0          2061.0      6.0          NaN   \n3                  266.0          2061.0      4.0          NaN   \n4                  261.0          2061.0      5.0          NaN   \n\n   threequarterbathnbr  typeconstructiontypeid  unitcnt  numberofstories  \\\n0                  NaN                     NaN      NaN              2.0   \n1                  NaN                     NaN      NaN              1.0   \n2                  1.0                     NaN      NaN              1.0   \n3                  NaN                     NaN      NaN              1.0   \n4                  NaN                     NaN      NaN              1.0   \n\n   assessmentyear  taxdelinquencyyear  \n0          2016.0                 NaN  \n1          2016.0                 NaN  \n2          2016.0                 NaN  \n3          2016.0                 NaN  \n4          2016.0                 NaN  ",
      "text/html": "<div>\n<style scoped>\n    .dataframe tbody tr th:only-of-type {\n        vertical-align: middle;\n    }\n\n    .dataframe tbody tr th {\n        vertical-align: top;\n    }\n\n    .dataframe thead th {\n        text-align: right;\n    }\n</style>\n<table border=\"1\" class=\"dataframe\">\n  <thead>\n    <tr style=\"text-align: right;\">\n      <th></th>\n      <th>airconditioningtypeid</th>\n      <th>architecturalstyletypeid</th>\n      <th>bedroomcnt</th>\n      <th>buildingclasstypeid</th>\n      <th>buildingqualitytypeid</th>\n      <th>decktypeid</th>\n      <th>finishedsquarefeet13</th>\n      <th>fips</th>\n      <th>fireplacecnt</th>\n      <th>fullbathcnt</th>\n      <th>garagecarcnt</th>\n      <th>heatingorsystemtypeid</th>\n      <th>poolcnt</th>\n      <th>pooltypeid10</th>\n      <th>pooltypeid2</th>\n      <th>pooltypeid7</th>\n      <th>propertylandusetypeid</th>\n      <th>regionidcounty</th>\n      <th>roomcnt</th>\n      <th>storytypeid</th>\n      <th>threequarterbathnbr</th>\n      <th>typeconstructiontypeid</th>\n      <th>unitcnt</th>\n      <th>numberofstories</th>\n      <th>assessmentyear</th>\n      <th>taxdelinquencyyear</th>\n    </tr>\n  </thead>\n  <tbody>\n    <tr>\n      <th>0</th>\n      <td>NaN</td>\n      <td>NaN</td>\n      <td>4.0</td>\n      <td>NaN</td>\n      <td>NaN</td>\n      <td>NaN</td>\n      <td>NaN</td>\n      <td>6111.0</td>\n      <td>4.0</td>\n      <td>5.0</td>\n      <td>3.0</td>\n      <td>NaN</td>\n      <td>1.0</td>\n      <td>NaN</td>\n      <td>NaN</td>\n      <td>1.0</td>\n      <td>261.0</td>\n      <td>2061.0</td>\n      <td>11.0</td>\n      <td>NaN</td>\n      <td>NaN</td>\n      <td>NaN</td>\n      <td>NaN</td>\n      <td>2.0</td>\n      <td>2016.0</td>\n      <td>NaN</td>\n    </tr>\n    <tr>\n      <th>1</th>\n      <td>NaN</td>\n      <td>NaN</td>\n      <td>3.0</td>\n      <td>NaN</td>\n      <td>NaN</td>\n      <td>66.0</td>\n      <td>NaN</td>\n      <td>6111.0</td>\n      <td>NaN</td>\n      <td>2.0</td>\n      <td>1.0</td>\n      <td>NaN</td>\n      <td>NaN</td>\n      <td>NaN</td>\n      <td>NaN</td>\n      <td>NaN</td>\n      <td>261.0</td>\n      <td>2061.0</td>\n      <td>6.0</td>\n      <td>NaN</td>\n      <td>NaN</td>\n      <td>NaN</td>\n      <td>NaN</td>\n      <td>1.0</td>\n      <td>2016.0</td>\n      <td>NaN</td>\n    </tr>\n    <tr>\n      <th>2</th>\n      <td>NaN</td>\n      <td>NaN</td>\n      <td>3.0</td>\n      <td>NaN</td>\n      <td>NaN</td>\n      <td>66.0</td>\n      <td>NaN</td>\n      <td>6111.0</td>\n      <td>1.0</td>\n      <td>1.0</td>\n      <td>0.0</td>\n      <td>NaN</td>\n      <td>NaN</td>\n      <td>NaN</td>\n      <td>NaN</td>\n      <td>NaN</td>\n      <td>261.0</td>\n      <td>2061.0</td>\n      <td>6.0</td>\n      <td>NaN</td>\n      <td>1.0</td>\n      <td>NaN</td>\n      <td>NaN</td>\n      <td>1.0</td>\n      <td>2016.0</td>\n      <td>NaN</td>\n    </tr>\n    <tr>\n      <th>3</th>\n      <td>NaN</td>\n      <td>NaN</td>\n      <td>2.0</td>\n      <td>NaN</td>\n      <td>NaN</td>\n      <td>NaN</td>\n      <td>NaN</td>\n      <td>6111.0</td>\n      <td>1.0</td>\n      <td>2.0</td>\n      <td>1.0</td>\n      <td>NaN</td>\n      <td>NaN</td>\n      <td>NaN</td>\n      <td>NaN</td>\n      <td>NaN</td>\n      <td>266.0</td>\n      <td>2061.0</td>\n      <td>4.0</td>\n      <td>NaN</td>\n      <td>NaN</td>\n      <td>NaN</td>\n      <td>NaN</td>\n      <td>1.0</td>\n      <td>2016.0</td>\n      <td>NaN</td>\n    </tr>\n    <tr>\n      <th>4</th>\n      <td>NaN</td>\n      <td>NaN</td>\n      <td>2.0</td>\n      <td>NaN</td>\n      <td>NaN</td>\n      <td>NaN</td>\n      <td>NaN</td>\n      <td>6111.0</td>\n      <td>1.0</td>\n      <td>1.0</td>\n      <td>2.0</td>\n      <td>NaN</td>\n      <td>NaN</td>\n      <td>NaN</td>\n      <td>NaN</td>\n      <td>NaN</td>\n      <td>261.0</td>\n      <td>2061.0</td>\n      <td>5.0</td>\n      <td>NaN</td>\n      <td>NaN</td>\n      <td>NaN</td>\n      <td>NaN</td>\n      <td>1.0</td>\n      <td>2016.0</td>\n      <td>NaN</td>\n    </tr>\n  </tbody>\n</table>\n</div>"
     },
     "execution_count": 47,
     "metadata": {},
     "output_type": "execute_result"
    }
   ],
   "source": [
    "merged_df[discrete_vars].head()"
   ],
   "metadata": {
    "collapsed": false,
    "pycharm": {
     "name": "#%%\n"
    }
   }
  },
  {
   "cell_type": "code",
   "execution_count": 48,
   "outputs": [],
   "source": [
    "def analyze_disc_vars(df,var):\n",
    "\n",
    "    new_df = merged_df.copy()\n",
    "    new_df[var].hist(bins=20)\n",
    "    plt.xlabel(var)\n",
    "    plt.ylabel('Count')\n",
    "    plt.title('Variation of '+ var)\n",
    "    plt.show()"
   ],
   "metadata": {
    "collapsed": false,
    "pycharm": {
     "name": "#%%\n"
    }
   }
  },
  {
   "cell_type": "code",
   "execution_count": null,
   "outputs": [],
   "source": [
    "# for var in discrete_vars:\n",
    "#     analyze_disc_vars(merged_df,var)"
   ],
   "metadata": {
    "collapsed": false,
    "pycharm": {
     "name": "#%%\n",
     "is_executing": true
    }
   }
  },
  {
   "cell_type": "markdown",
   "source": [
    "## Distribution of Continuous variables"
   ],
   "metadata": {
    "collapsed": false,
    "pycharm": {
     "name": "#%% md\n"
    }
   }
  },
  {
   "cell_type": "code",
   "execution_count": 50,
   "outputs": [
    {
     "name": "stdout",
     "output_type": "stream",
     "text": [
      "No of continuous variables :  28\n"
     ]
    }
   ],
   "source": [
    "cont_vars = [var for var in num_vars if var not in discrete_vars and year_var]\n",
    "print('No of continuous variables : ', len(cont_vars))"
   ],
   "metadata": {
    "collapsed": false,
    "pycharm": {
     "name": "#%%\n"
    }
   }
  },
  {
   "cell_type": "code",
   "execution_count": 51,
   "outputs": [],
   "source": [
    "def analyze_cont_vars(df,var):\n",
    "\n",
    "    new_df = merged_df.copy()\n",
    "    new_df[var].hist(bins=20)\n",
    "    plt.xlabel(var)\n",
    "    plt.ylabel('Count')\n",
    "    plt.title('Variation of '+ var)\n",
    "    plt.show()"
   ],
   "metadata": {
    "collapsed": false,
    "pycharm": {
     "name": "#%%\n"
    }
   }
  },
  {
   "cell_type": "code",
   "execution_count": null,
   "outputs": [],
   "source": [
    "# for var in cont_vars:\n",
    "#     analyze_cont_vars(merged_df,var)"
   ],
   "metadata": {
    "collapsed": false,
    "pycharm": {
     "name": "#%%\n"
    }
   }
  },
  {
   "cell_type": "markdown",
   "source": [
    "## Observation:\n",
    "\n",
    "Some of the variables are not normally distributed.\n",
    "\n",
    "Evaluate if a logarithmic transformation of the variables returns values that will follow normal distribution"
   ],
   "metadata": {
    "collapsed": false,
    "pycharm": {
     "name": "#%% md\n"
    }
   }
  },
  {
   "cell_type": "code",
   "execution_count": 52,
   "outputs": [],
   "source": [
    "# log Transformation of variables\n",
    "\n",
    "def analyze_log_variation(df,var):\n",
    "\n",
    "    new_df = df.copy()\n",
    "    if 0 in new_df[var].unique():\n",
    "        pass\n",
    "        # Hence log(0) = undefined\n",
    "\n",
    "    else:\n",
    "\n",
    "        new_df[var] = np.log(new_df[var])\n",
    "        new_df[var].hist(bins=20)\n",
    "        plt.xlabel(var)\n",
    "        plt.ylabel('Count')\n",
    "        plt.title('Logarithmic Variation of '+ var)\n",
    "        plt.show()"
   ],
   "metadata": {
    "collapsed": false,
    "pycharm": {
     "name": "#%%\n"
    }
   }
  },
  {
   "cell_type": "code",
   "execution_count": null,
   "outputs": [],
   "source": [
    "for var in cont_vars:\n",
    "    analyze_log_variation(merged_df,var)"
   ],
   "metadata": {
    "collapsed": false,
    "pycharm": {
     "name": "#%%\n",
     "is_executing": true
    }
   }
  },
  {
   "cell_type": "markdown",
   "source": [
    "## Observation:\n",
    "\n",
    "We see that we get a better spread of the values for only few variables when we use the logarithmic transformation."
   ],
   "metadata": {
    "collapsed": false,
    "pycharm": {
     "name": "#%% md\n"
    }
   }
  },
  {
   "cell_type": "markdown",
   "source": [],
   "metadata": {
    "collapsed": false,
    "pycharm": {
     "name": "#%% md\n"
    }
   }
  },
  {
   "cell_type": "markdown",
   "source": [],
   "metadata": {
    "collapsed": false,
    "pycharm": {
     "name": "#%% md\n"
    }
   }
  },
  {
   "cell_type": "markdown",
   "source": [
    "## Analyzing Outliers"
   ],
   "metadata": {
    "collapsed": false,
    "pycharm": {
     "name": "#%% md\n"
    }
   }
  },
  {
   "cell_type": "code",
   "execution_count": 54,
   "outputs": [],
   "source": [
    "def analyze_outliers(df,var):\n",
    "\n",
    "    new_df = df.copy()\n",
    "\n",
    "    if 0 in new_df[var].unique():\n",
    "        pass\n",
    "\n",
    "    else:\n",
    "        new_df[var] = np.log(df[var])\n",
    "        new_df.boxplot(column=var)\n",
    "        plt.tight_layout()\n",
    "        plt.show()"
   ],
   "metadata": {
    "collapsed": false,
    "pycharm": {
     "name": "#%%\n"
    }
   }
  },
  {
   "cell_type": "code",
   "execution_count": null,
   "outputs": [],
   "source": [
    "# for var in cont_vars:\n",
    "#     analyze_outliers(merged_df,var)\n",
    "#     print('\\n')"
   ],
   "metadata": {
    "collapsed": false,
    "pycharm": {
     "name": "#%%\n"
    }
   }
  },
  {
   "cell_type": "markdown",
   "source": [
    "## Observation:\n",
    "\n",
    "We can see that there are outliers in some of the variables and we will remove those outliers with feature engineering and bulid a model on top of it"
   ],
   "metadata": {
    "collapsed": false,
    "pycharm": {
     "name": "#%% md\n"
    }
   }
  },
  {
   "cell_type": "markdown",
   "source": [
    ".\n",
    "\n",
    "\n",
    "\n",
    "\n",
    "\n",
    "\n",
    "\n",
    "\n",
    "."
   ],
   "metadata": {
    "collapsed": false,
    "pycharm": {
     "name": "#%% md\n"
    }
   }
  },
  {
   "cell_type": "code",
   "execution_count": null,
   "outputs": [],
   "source": [],
   "metadata": {
    "collapsed": false,
    "pycharm": {
     "name": "#%%\n"
    }
   }
  },
  {
   "cell_type": "markdown",
   "source": [
    "# Feature Engineering"
   ],
   "metadata": {
    "collapsed": false,
    "pycharm": {
     "name": "#%% md\n"
    }
   }
  },
  {
   "cell_type": "markdown",
   "source": [
    "a.Duplicate value removal\n",
    "\n",
    "b.Missing value imputation\n",
    "\n",
    "c.Rescaling of incorrectly scaled data\n",
    "\n",
    "d.Standardization\n",
    "\n",
    "e.Encoding of categorical variables\n",
    "\n",
    "f.Generation of new feature wherever required.\n",
    "\n",
    "g.Dropping of redundant feature columns\n",
    "\n",
    "h.Checking for multi-collinearity and removal of highly correlated features\n",
    "\n",
    "i.Check for the outliners and removal of outliers."
   ],
   "metadata": {
    "collapsed": false,
    "pycharm": {
     "name": "#%% md\n"
    }
   }
  },
  {
   "cell_type": "code",
   "execution_count": null,
   "outputs": [],
   "source": [],
   "metadata": {
    "collapsed": false,
    "pycharm": {
     "name": "#%%\n"
    }
   }
  },
  {
   "cell_type": "markdown",
   "source": [
    "### Correlations"
   ],
   "metadata": {
    "collapsed": false,
    "pycharm": {
     "name": "#%% md\n"
    }
   }
  },
  {
   "cell_type": "code",
   "execution_count": null,
   "outputs": [],
   "source": [],
   "metadata": {
    "collapsed": false,
    "pycharm": {
     "name": "#%%\n"
    }
   }
  },
  {
   "cell_type": "markdown",
   "source": [
    "### Store into .csv\n",
    "\n",
    "Storing this dataframe in a separate .csv will come handy for later tasks.\n",
    "logerror and transactiondate are dropped because they are not property data."
   ],
   "metadata": {
    "collapsed": false,
    "pycharm": {
     "name": "#%% md\n"
    }
   }
  },
  {
   "cell_type": "code",
   "execution_count": null,
   "outputs": [],
   "source": [],
   "metadata": {
    "collapsed": false,
    "pycharm": {
     "name": "#%%\n"
    }
   }
  },
  {
   "cell_type": "code",
   "execution_count": null,
   "outputs": [],
   "source": [],
   "metadata": {
    "collapsed": false,
    "pycharm": {
     "name": "#%%\n"
    }
   }
  },
  {
   "cell_type": "markdown",
   "source": [],
   "metadata": {
    "collapsed": false,
    "pycharm": {
     "name": "#%% md\n"
    }
   }
  },
  {
   "cell_type": "code",
   "execution_count": null,
   "outputs": [],
   "source": [],
   "metadata": {
    "collapsed": false,
    "pycharm": {
     "name": "#%%\n"
    }
   }
  }
 ],
 "metadata": {
  "kernelspec": {
   "display_name": "Python 3",
   "language": "python",
   "name": "python3"
  },
  "language_info": {
   "codemirror_mode": {
    "name": "ipython",
    "version": 2
   },
   "file_extension": ".py",
   "mimetype": "text/x-python",
   "name": "python",
   "nbconvert_exporter": "python",
   "pygments_lexer": "ipython2",
   "version": "2.7.6"
  }
 },
 "nbformat": 4,
 "nbformat_minor": 0
}