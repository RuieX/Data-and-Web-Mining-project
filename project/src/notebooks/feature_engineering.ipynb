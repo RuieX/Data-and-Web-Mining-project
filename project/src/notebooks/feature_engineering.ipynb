{
 "cells": [
  {
   "cell_type": "markdown",
   "source": [
    "intro di cosa faccio in questo notebook\n",
    "\n",
    "# Introduction\n",
    "\n",
    "In this notebook the datasets from the [Zillow Prize Challenge](https://www.kaggle.com/c/zillow-prize-1/overview) are elaborated with different levels of manual intervention in the feature engineering process, in order to understand how impactful each level of intervention is to the final model predictions.\n",
    "\n",
    "Datasets are engineered in an incremental fashion, where level x+1 continues the engineering process from where the level x ended."
   ],
   "metadata": {
    "collapsed": false,
    "pycharm": {
     "name": "#%% md\n"
    }
   }
  },
  {
   "cell_type": "markdown",
   "source": [
    "# Setup\n",
    "Let us first import the necessary modules."
   ],
   "metadata": {
    "collapsed": false,
    "pycharm": {
     "name": "#%% md\n"
    }
   }
  },
  {
   "cell_type": "code",
   "execution_count": 17,
   "outputs": [],
   "source": [
    "%matplotlib inline\n",
    "\n",
    "import math # linear algebra\n",
    "import numpy as np # data processing, CSV file I/O (e.g. pd.read_csv)\n",
    "import matplotlib.pyplot as plt\n",
    "import operator\n",
    "import pandas as pd\n",
    "opt_max_cols = 99\n",
    "pd.set_option(\"display.max_columns\", opt_max_cols)\n",
    "\n",
    "# Might be needed in notebook to import modules\n",
    "# dir structure: project -> src -> notebooks\n",
    "import sys\n",
    "import os\n",
    "sys.path.insert(0, os.path.abspath(\"../../\"))\n",
    "\n",
    "from sklearn.ensemble import RandomForestRegressor\n",
    "\n",
    "# sostituire se ho i file, sono solo per importare script python scritti da me\n",
    "# import project.src.feat_engineering as fe\n",
    "# import project.src.training as tr\n",
    "# import project.src.visualization as vis\n",
    "# import project.src.utils as utils\n",
    "# import project.src.dataset_manager as dm\n",
    "\n",
    "# RND_SEED = utils.RND_SEED #non so a cosa serva sinceramente"
   ],
   "metadata": {
    "collapsed": false,
    "pycharm": {
     "name": "#%%\n"
    }
   }
  },
  {
   "cell_type": "markdown",
   "source": [
    "# Load Data\n",
    "\n",
    "[>>>cambia testo<<<]\n",
    "Only 2017 data is used since it is the updated version of 2016 and the two properties datasets do not differ significantly, except for some new properties that have their correct data registered."
   ],
   "metadata": {
    "collapsed": false,
    "pycharm": {
     "name": "#%% md\n"
    }
   }
  },
  {
   "cell_type": "code",
   "execution_count": 18,
   "outputs": [
    {
     "name": "stderr",
     "output_type": "stream",
     "text": [
      "/Library/Frameworks/Python.framework/Versions/3.9/lib/python3.9/site-packages/IPython/core/interactiveshell.py:3457: DtypeWarning: Columns (49) have mixed types.Specify dtype option on import or set low_memory=False.\n",
      "  exec(code_obj, self.user_global_ns, self.user_ns)\n"
     ]
    }
   ],
   "source": [
    "# non so cosa sia actual\n",
    "# ACTUAL_2017_CSV = f\"{dm.DATASETS_DIR}/actual-2017.csv\"\n",
    "properties_2017 = pd.read_csv('../data/zillow-prize-1/properties_2017.csv')\n",
    "train_2017 = pd.read_csv('../data/zillow-prize-1/train_2017.csv')"
   ],
   "metadata": {
    "collapsed": false,
    "pycharm": {
     "name": "#%%\n"
    }
   }
  },
  {
   "cell_type": "markdown",
   "source": [
    "## Property data"
   ],
   "metadata": {
    "collapsed": false,
    "pycharm": {
     "name": "#%% md\n"
    }
   }
  },
  {
   "cell_type": "code",
   "execution_count": 19,
   "outputs": [
    {
     "name": "stdout",
     "output_type": "stream",
     "text": [
      "Shape of properties_2017:  (2985217, 58)\n",
      "Shape of train_2017:  (77613, 3)\n"
     ]
    }
   ],
   "source": [
    "# Shape of the datasets\n",
    "print('Shape of properties_2017: ', properties_2017.shape)\n",
    "print('Shape of train_2017: ', train_2017.shape)"
   ],
   "metadata": {
    "collapsed": false,
    "pycharm": {
     "name": "#%%\n"
    }
   }
  },
  {
   "cell_type": "code",
   "execution_count": 20,
   "outputs": [
    {
     "data": {
      "text/plain": "   parcelid  airconditioningtypeid  architecturalstyletypeid  basementsqft  \\\n0  10754147                    NaN                       NaN           NaN   \n1  10759547                    NaN                       NaN           NaN   \n2  10843547                    NaN                       NaN           NaN   \n3  10859147                    NaN                       NaN           NaN   \n4  10879947                    NaN                       NaN           NaN   \n\n   bathroomcnt  bedroomcnt  buildingclasstypeid  buildingqualitytypeid  \\\n0          0.0         0.0                  NaN                    NaN   \n1          0.0         0.0                  NaN                    NaN   \n2          0.0         0.0                  5.0                    NaN   \n3          0.0         0.0                  3.0                    6.0   \n4          0.0         0.0                  4.0                    NaN   \n\n   calculatedbathnbr  decktypeid  finishedfloor1squarefeet  \\\n0                NaN         NaN                       NaN   \n1                NaN         NaN                       NaN   \n2                NaN         NaN                       NaN   \n3                NaN         NaN                       NaN   \n4                NaN         NaN                       NaN   \n\n   calculatedfinishedsquarefeet  finishedsquarefeet12  finishedsquarefeet13  \\\n0                           NaN                   NaN                   NaN   \n1                           NaN                   NaN                   NaN   \n2                       73026.0                   NaN                   NaN   \n3                        5068.0                   NaN                   NaN   \n4                        1776.0                   NaN                   NaN   \n\n   finishedsquarefeet15  finishedsquarefeet50  finishedsquarefeet6    fips  \\\n0                   NaN                   NaN                  NaN  6037.0   \n1                   NaN                   NaN                  NaN  6037.0   \n2               73026.0                   NaN                  NaN  6037.0   \n3                5068.0                   NaN                  NaN  6037.0   \n4                1776.0                   NaN                  NaN  6037.0   \n\n   fireplacecnt  fullbathcnt  garagecarcnt  garagetotalsqft hashottuborspa  \\\n0           NaN          NaN           NaN              NaN            NaN   \n1           NaN          NaN           NaN              NaN            NaN   \n2           NaN          NaN           NaN              NaN            NaN   \n3           NaN          NaN           NaN              NaN            NaN   \n4           NaN          NaN           NaN              NaN            NaN   \n\n   heatingorsystemtypeid    latitude    longitude  lotsizesquarefeet  poolcnt  \\\n0                    NaN  34144442.0 -118654084.0            85768.0      NaN   \n1                    NaN  34140430.0 -118625364.0             4083.0      NaN   \n2                    NaN  33989359.0 -118394633.0            63085.0      NaN   \n3                    NaN  34148863.0 -118437206.0             7521.0      NaN   \n4                    NaN  34194168.0 -118385816.0             8512.0      NaN   \n\n   poolsizesum  pooltypeid10  pooltypeid2  pooltypeid7  \\\n0          NaN           NaN          NaN          NaN   \n1          NaN           NaN          NaN          NaN   \n2          NaN           NaN          NaN          NaN   \n3          NaN           NaN          NaN          NaN   \n4          NaN           NaN          NaN          NaN   \n\n  propertycountylandusecode  propertylandusetypeid propertyzoningdesc  \\\n0                      010D                  269.0                NaN   \n1                      0109                  261.0             LCA11*   \n2                      1200                   47.0               LAC2   \n3                      1200                   47.0               LAC2   \n4                      1210                   31.0               LAM1   \n\n   rawcensustractandblock  regionidcity  regionidcounty  regionidneighborhood  \\\n0            6.037800e+07       37688.0          3101.0                   NaN   \n1            6.037800e+07       37688.0          3101.0                   NaN   \n2            6.037703e+07       51617.0          3101.0                   NaN   \n3            6.037141e+07       12447.0          3101.0               27080.0   \n4            6.037123e+07       12447.0          3101.0               46795.0   \n\n   regionidzip  roomcnt  storytypeid  threequarterbathnbr  \\\n0      96337.0      0.0          NaN                  NaN   \n1      96337.0      0.0          NaN                  NaN   \n2      96095.0      0.0          NaN                  NaN   \n3      96424.0      0.0          NaN                  NaN   \n4      96450.0      0.0          NaN                  NaN   \n\n   typeconstructiontypeid  unitcnt  yardbuildingsqft17  yardbuildingsqft26  \\\n0                     NaN      NaN                 NaN                 NaN   \n1                     NaN      NaN                 NaN                 NaN   \n2                     NaN      2.0                 NaN                 NaN   \n3                     NaN      NaN                 NaN                 NaN   \n4                     NaN      1.0                 NaN                 NaN   \n\n   yearbuilt  numberofstories fireplaceflag  structuretaxvaluedollarcnt  \\\n0        NaN              NaN           NaN                         NaN   \n1        NaN              NaN           NaN                         NaN   \n2     1959.0              1.0           NaN                    660680.0   \n3     1948.0              1.0           NaN                    580059.0   \n4     1947.0              1.0           NaN                    196751.0   \n\n   taxvaluedollarcnt  assessmentyear  landtaxvaluedollarcnt  taxamount  \\\n0                9.0          2016.0                    9.0        NaN   \n1            27516.0          2015.0                27516.0        NaN   \n2          1434941.0          2016.0               774261.0   20800.37   \n3          1174475.0          2016.0               594416.0   14557.57   \n4           440101.0          2016.0               243350.0    5725.17   \n\n  taxdelinquencyflag  taxdelinquencyyear  censustractandblock  \n0                NaN                 NaN                  NaN  \n1                NaN                 NaN                  NaN  \n2                NaN                 NaN                  NaN  \n3                NaN                 NaN                  NaN  \n4                NaN                 NaN                  NaN  ",
      "text/html": "<div>\n<style scoped>\n    .dataframe tbody tr th:only-of-type {\n        vertical-align: middle;\n    }\n\n    .dataframe tbody tr th {\n        vertical-align: top;\n    }\n\n    .dataframe thead th {\n        text-align: right;\n    }\n</style>\n<table border=\"1\" class=\"dataframe\">\n  <thead>\n    <tr style=\"text-align: right;\">\n      <th></th>\n      <th>parcelid</th>\n      <th>airconditioningtypeid</th>\n      <th>architecturalstyletypeid</th>\n      <th>basementsqft</th>\n      <th>bathroomcnt</th>\n      <th>bedroomcnt</th>\n      <th>buildingclasstypeid</th>\n      <th>buildingqualitytypeid</th>\n      <th>calculatedbathnbr</th>\n      <th>decktypeid</th>\n      <th>finishedfloor1squarefeet</th>\n      <th>calculatedfinishedsquarefeet</th>\n      <th>finishedsquarefeet12</th>\n      <th>finishedsquarefeet13</th>\n      <th>finishedsquarefeet15</th>\n      <th>finishedsquarefeet50</th>\n      <th>finishedsquarefeet6</th>\n      <th>fips</th>\n      <th>fireplacecnt</th>\n      <th>fullbathcnt</th>\n      <th>garagecarcnt</th>\n      <th>garagetotalsqft</th>\n      <th>hashottuborspa</th>\n      <th>heatingorsystemtypeid</th>\n      <th>latitude</th>\n      <th>longitude</th>\n      <th>lotsizesquarefeet</th>\n      <th>poolcnt</th>\n      <th>poolsizesum</th>\n      <th>pooltypeid10</th>\n      <th>pooltypeid2</th>\n      <th>pooltypeid7</th>\n      <th>propertycountylandusecode</th>\n      <th>propertylandusetypeid</th>\n      <th>propertyzoningdesc</th>\n      <th>rawcensustractandblock</th>\n      <th>regionidcity</th>\n      <th>regionidcounty</th>\n      <th>regionidneighborhood</th>\n      <th>regionidzip</th>\n      <th>roomcnt</th>\n      <th>storytypeid</th>\n      <th>threequarterbathnbr</th>\n      <th>typeconstructiontypeid</th>\n      <th>unitcnt</th>\n      <th>yardbuildingsqft17</th>\n      <th>yardbuildingsqft26</th>\n      <th>yearbuilt</th>\n      <th>numberofstories</th>\n      <th>fireplaceflag</th>\n      <th>structuretaxvaluedollarcnt</th>\n      <th>taxvaluedollarcnt</th>\n      <th>assessmentyear</th>\n      <th>landtaxvaluedollarcnt</th>\n      <th>taxamount</th>\n      <th>taxdelinquencyflag</th>\n      <th>taxdelinquencyyear</th>\n      <th>censustractandblock</th>\n    </tr>\n  </thead>\n  <tbody>\n    <tr>\n      <th>0</th>\n      <td>10754147</td>\n      <td>NaN</td>\n      <td>NaN</td>\n      <td>NaN</td>\n      <td>0.0</td>\n      <td>0.0</td>\n      <td>NaN</td>\n      <td>NaN</td>\n      <td>NaN</td>\n      <td>NaN</td>\n      <td>NaN</td>\n      <td>NaN</td>\n      <td>NaN</td>\n      <td>NaN</td>\n      <td>NaN</td>\n      <td>NaN</td>\n      <td>NaN</td>\n      <td>6037.0</td>\n      <td>NaN</td>\n      <td>NaN</td>\n      <td>NaN</td>\n      <td>NaN</td>\n      <td>NaN</td>\n      <td>NaN</td>\n      <td>34144442.0</td>\n      <td>-118654084.0</td>\n      <td>85768.0</td>\n      <td>NaN</td>\n      <td>NaN</td>\n      <td>NaN</td>\n      <td>NaN</td>\n      <td>NaN</td>\n      <td>010D</td>\n      <td>269.0</td>\n      <td>NaN</td>\n      <td>6.037800e+07</td>\n      <td>37688.0</td>\n      <td>3101.0</td>\n      <td>NaN</td>\n      <td>96337.0</td>\n      <td>0.0</td>\n      <td>NaN</td>\n      <td>NaN</td>\n      <td>NaN</td>\n      <td>NaN</td>\n      <td>NaN</td>\n      <td>NaN</td>\n      <td>NaN</td>\n      <td>NaN</td>\n      <td>NaN</td>\n      <td>NaN</td>\n      <td>9.0</td>\n      <td>2016.0</td>\n      <td>9.0</td>\n      <td>NaN</td>\n      <td>NaN</td>\n      <td>NaN</td>\n      <td>NaN</td>\n    </tr>\n    <tr>\n      <th>1</th>\n      <td>10759547</td>\n      <td>NaN</td>\n      <td>NaN</td>\n      <td>NaN</td>\n      <td>0.0</td>\n      <td>0.0</td>\n      <td>NaN</td>\n      <td>NaN</td>\n      <td>NaN</td>\n      <td>NaN</td>\n      <td>NaN</td>\n      <td>NaN</td>\n      <td>NaN</td>\n      <td>NaN</td>\n      <td>NaN</td>\n      <td>NaN</td>\n      <td>NaN</td>\n      <td>6037.0</td>\n      <td>NaN</td>\n      <td>NaN</td>\n      <td>NaN</td>\n      <td>NaN</td>\n      <td>NaN</td>\n      <td>NaN</td>\n      <td>34140430.0</td>\n      <td>-118625364.0</td>\n      <td>4083.0</td>\n      <td>NaN</td>\n      <td>NaN</td>\n      <td>NaN</td>\n      <td>NaN</td>\n      <td>NaN</td>\n      <td>0109</td>\n      <td>261.0</td>\n      <td>LCA11*</td>\n      <td>6.037800e+07</td>\n      <td>37688.0</td>\n      <td>3101.0</td>\n      <td>NaN</td>\n      <td>96337.0</td>\n      <td>0.0</td>\n      <td>NaN</td>\n      <td>NaN</td>\n      <td>NaN</td>\n      <td>NaN</td>\n      <td>NaN</td>\n      <td>NaN</td>\n      <td>NaN</td>\n      <td>NaN</td>\n      <td>NaN</td>\n      <td>NaN</td>\n      <td>27516.0</td>\n      <td>2015.0</td>\n      <td>27516.0</td>\n      <td>NaN</td>\n      <td>NaN</td>\n      <td>NaN</td>\n      <td>NaN</td>\n    </tr>\n    <tr>\n      <th>2</th>\n      <td>10843547</td>\n      <td>NaN</td>\n      <td>NaN</td>\n      <td>NaN</td>\n      <td>0.0</td>\n      <td>0.0</td>\n      <td>5.0</td>\n      <td>NaN</td>\n      <td>NaN</td>\n      <td>NaN</td>\n      <td>NaN</td>\n      <td>73026.0</td>\n      <td>NaN</td>\n      <td>NaN</td>\n      <td>73026.0</td>\n      <td>NaN</td>\n      <td>NaN</td>\n      <td>6037.0</td>\n      <td>NaN</td>\n      <td>NaN</td>\n      <td>NaN</td>\n      <td>NaN</td>\n      <td>NaN</td>\n      <td>NaN</td>\n      <td>33989359.0</td>\n      <td>-118394633.0</td>\n      <td>63085.0</td>\n      <td>NaN</td>\n      <td>NaN</td>\n      <td>NaN</td>\n      <td>NaN</td>\n      <td>NaN</td>\n      <td>1200</td>\n      <td>47.0</td>\n      <td>LAC2</td>\n      <td>6.037703e+07</td>\n      <td>51617.0</td>\n      <td>3101.0</td>\n      <td>NaN</td>\n      <td>96095.0</td>\n      <td>0.0</td>\n      <td>NaN</td>\n      <td>NaN</td>\n      <td>NaN</td>\n      <td>2.0</td>\n      <td>NaN</td>\n      <td>NaN</td>\n      <td>1959.0</td>\n      <td>1.0</td>\n      <td>NaN</td>\n      <td>660680.0</td>\n      <td>1434941.0</td>\n      <td>2016.0</td>\n      <td>774261.0</td>\n      <td>20800.37</td>\n      <td>NaN</td>\n      <td>NaN</td>\n      <td>NaN</td>\n    </tr>\n    <tr>\n      <th>3</th>\n      <td>10859147</td>\n      <td>NaN</td>\n      <td>NaN</td>\n      <td>NaN</td>\n      <td>0.0</td>\n      <td>0.0</td>\n      <td>3.0</td>\n      <td>6.0</td>\n      <td>NaN</td>\n      <td>NaN</td>\n      <td>NaN</td>\n      <td>5068.0</td>\n      <td>NaN</td>\n      <td>NaN</td>\n      <td>5068.0</td>\n      <td>NaN</td>\n      <td>NaN</td>\n      <td>6037.0</td>\n      <td>NaN</td>\n      <td>NaN</td>\n      <td>NaN</td>\n      <td>NaN</td>\n      <td>NaN</td>\n      <td>NaN</td>\n      <td>34148863.0</td>\n      <td>-118437206.0</td>\n      <td>7521.0</td>\n      <td>NaN</td>\n      <td>NaN</td>\n      <td>NaN</td>\n      <td>NaN</td>\n      <td>NaN</td>\n      <td>1200</td>\n      <td>47.0</td>\n      <td>LAC2</td>\n      <td>6.037141e+07</td>\n      <td>12447.0</td>\n      <td>3101.0</td>\n      <td>27080.0</td>\n      <td>96424.0</td>\n      <td>0.0</td>\n      <td>NaN</td>\n      <td>NaN</td>\n      <td>NaN</td>\n      <td>NaN</td>\n      <td>NaN</td>\n      <td>NaN</td>\n      <td>1948.0</td>\n      <td>1.0</td>\n      <td>NaN</td>\n      <td>580059.0</td>\n      <td>1174475.0</td>\n      <td>2016.0</td>\n      <td>594416.0</td>\n      <td>14557.57</td>\n      <td>NaN</td>\n      <td>NaN</td>\n      <td>NaN</td>\n    </tr>\n    <tr>\n      <th>4</th>\n      <td>10879947</td>\n      <td>NaN</td>\n      <td>NaN</td>\n      <td>NaN</td>\n      <td>0.0</td>\n      <td>0.0</td>\n      <td>4.0</td>\n      <td>NaN</td>\n      <td>NaN</td>\n      <td>NaN</td>\n      <td>NaN</td>\n      <td>1776.0</td>\n      <td>NaN</td>\n      <td>NaN</td>\n      <td>1776.0</td>\n      <td>NaN</td>\n      <td>NaN</td>\n      <td>6037.0</td>\n      <td>NaN</td>\n      <td>NaN</td>\n      <td>NaN</td>\n      <td>NaN</td>\n      <td>NaN</td>\n      <td>NaN</td>\n      <td>34194168.0</td>\n      <td>-118385816.0</td>\n      <td>8512.0</td>\n      <td>NaN</td>\n      <td>NaN</td>\n      <td>NaN</td>\n      <td>NaN</td>\n      <td>NaN</td>\n      <td>1210</td>\n      <td>31.0</td>\n      <td>LAM1</td>\n      <td>6.037123e+07</td>\n      <td>12447.0</td>\n      <td>3101.0</td>\n      <td>46795.0</td>\n      <td>96450.0</td>\n      <td>0.0</td>\n      <td>NaN</td>\n      <td>NaN</td>\n      <td>NaN</td>\n      <td>1.0</td>\n      <td>NaN</td>\n      <td>NaN</td>\n      <td>1947.0</td>\n      <td>1.0</td>\n      <td>NaN</td>\n      <td>196751.0</td>\n      <td>440101.0</td>\n      <td>2016.0</td>\n      <td>243350.0</td>\n      <td>5725.17</td>\n      <td>NaN</td>\n      <td>NaN</td>\n      <td>NaN</td>\n    </tr>\n  </tbody>\n</table>\n</div>"
     },
     "execution_count": 20,
     "metadata": {},
     "output_type": "execute_result"
    }
   ],
   "source": [
    "properties_2017.head()"
   ],
   "metadata": {
    "collapsed": false,
    "pycharm": {
     "name": "#%%\n"
    }
   }
  },
  {
   "cell_type": "code",
   "execution_count": 21,
   "outputs": [
    {
     "data": {
      "text/plain": "   parcelid  logerror transactiondate\n0  14297519  0.025595      2017-01-01\n1  17052889  0.055619      2017-01-01\n2  14186244  0.005383      2017-01-01\n3  12177905 -0.103410      2017-01-01\n4  10887214  0.006940      2017-01-01",
      "text/html": "<div>\n<style scoped>\n    .dataframe tbody tr th:only-of-type {\n        vertical-align: middle;\n    }\n\n    .dataframe tbody tr th {\n        vertical-align: top;\n    }\n\n    .dataframe thead th {\n        text-align: right;\n    }\n</style>\n<table border=\"1\" class=\"dataframe\">\n  <thead>\n    <tr style=\"text-align: right;\">\n      <th></th>\n      <th>parcelid</th>\n      <th>logerror</th>\n      <th>transactiondate</th>\n    </tr>\n  </thead>\n  <tbody>\n    <tr>\n      <th>0</th>\n      <td>14297519</td>\n      <td>0.025595</td>\n      <td>2017-01-01</td>\n    </tr>\n    <tr>\n      <th>1</th>\n      <td>17052889</td>\n      <td>0.055619</td>\n      <td>2017-01-01</td>\n    </tr>\n    <tr>\n      <th>2</th>\n      <td>14186244</td>\n      <td>0.005383</td>\n      <td>2017-01-01</td>\n    </tr>\n    <tr>\n      <th>3</th>\n      <td>12177905</td>\n      <td>-0.103410</td>\n      <td>2017-01-01</td>\n    </tr>\n    <tr>\n      <th>4</th>\n      <td>10887214</td>\n      <td>0.006940</td>\n      <td>2017-01-01</td>\n    </tr>\n  </tbody>\n</table>\n</div>"
     },
     "execution_count": 21,
     "metadata": {},
     "output_type": "execute_result"
    }
   ],
   "source": [
    "train_2017.head()"
   ],
   "metadata": {
    "collapsed": false,
    "pycharm": {
     "name": "#%%\n"
    }
   }
  },
  {
   "cell_type": "markdown",
   "source": [
    "Feature description:\n",
    "<faccio lista delle feature>"
   ],
   "metadata": {
    "collapsed": false,
    "pycharm": {
     "name": "#%% md\n"
    }
   }
  },
  {
   "cell_type": "markdown",
   "source": [
    "## Target data"
   ],
   "metadata": {
    "collapsed": false,
    "pycharm": {
     "name": "#%% md\n"
    }
   }
  },
  {
   "cell_type": "code",
   "execution_count": 21,
   "outputs": [],
   "source": [],
   "metadata": {
    "collapsed": false,
    "pycharm": {
     "name": "#%%\n"
    }
   }
  },
  {
   "cell_type": "markdown",
   "source": [
    "## Get actually used property data\n",
    "\n",
    "The properties and target datasets are merged because a lot of properties in the first dataset aren't included in the second, which is the one that defines what data is necessary for the supervised learning."
   ],
   "metadata": {
    "collapsed": false,
    "pycharm": {
     "name": "#%% md\n"
    }
   }
  },
  {
   "cell_type": "markdown",
   "source": [
    "#### Observation:\n",
    "We can see that parcelid is the unique identifier between the 2 tables. Therefore we will merge the 2 tables based on parcelid to form our complete datatset and then go ahead with other EDA techniques."
   ],
   "metadata": {
    "collapsed": false,
    "pycharm": {
     "name": "#%% md\n"
    }
   }
  },
  {
   "cell_type": "code",
   "execution_count": 22,
   "outputs": [
    {
     "data": {
      "text/plain": "   parcelid  airconditioningtypeid  architecturalstyletypeid  basementsqft  \\\n0  17054981                    NaN                       NaN           NaN   \n1  17055743                    NaN                       NaN           NaN   \n2  17068109                    NaN                       NaN           NaN   \n3  17073952                    NaN                       NaN           NaN   \n4  17078502                    NaN                       NaN           NaN   \n\n   bathroomcnt  bedroomcnt  buildingclasstypeid  buildingqualitytypeid  \\\n0          5.0         4.0                  NaN                    NaN   \n1          2.0         3.0                  NaN                    NaN   \n2          1.5         3.0                  NaN                    NaN   \n3          2.0         2.0                  NaN                    NaN   \n4          1.0         2.0                  NaN                    NaN   \n\n   calculatedbathnbr  decktypeid  finishedfloor1squarefeet  \\\n0                5.0         NaN                    1968.0   \n1                2.0        66.0                    1444.0   \n2                1.5        66.0                    1698.0   \n3                2.0         NaN                     986.0   \n4                1.0         NaN                    1170.0   \n\n   calculatedfinishedsquarefeet  finishedsquarefeet12  finishedsquarefeet13  \\\n0                        3760.0                3760.0                   NaN   \n1                        1444.0                1444.0                   NaN   \n2                        1698.0                1698.0                   NaN   \n3                         986.0                 986.0                   NaN   \n4                        1170.0                1170.0                   NaN   \n\n   finishedsquarefeet15  finishedsquarefeet50  finishedsquarefeet6    fips  \\\n0                   NaN                1968.0                  NaN  6111.0   \n1                   NaN                1444.0                  NaN  6111.0   \n2                   NaN                1698.0                  NaN  6111.0   \n3                   NaN                 986.0                  NaN  6111.0   \n4                   NaN                1170.0                  NaN  6111.0   \n\n   fireplacecnt  fullbathcnt  garagecarcnt  garagetotalsqft hashottuborspa  \\\n0           4.0          5.0           3.0            784.0            NaN   \n1           NaN          2.0           1.0              0.0            NaN   \n2           1.0          1.0           0.0              0.0            NaN   \n3           1.0          2.0           1.0              0.0            NaN   \n4           1.0          1.0           2.0            621.0            NaN   \n\n   heatingorsystemtypeid    latitude    longitude  lotsizesquarefeet  poolcnt  \\\n0                    NaN  34449407.0 -119254052.0            42688.0      1.0   \n1                    NaN  34454169.0 -119237898.0             7108.0      NaN   \n2                    NaN  34365693.0 -119448392.0             2588.0      NaN   \n3                    NaN  34305600.0 -119284000.0                NaN      NaN   \n4                    NaN  34278012.0 -119257047.0             5643.0      NaN   \n\n   poolsizesum  pooltypeid10  pooltypeid2  pooltypeid7  \\\n0        735.0           NaN          NaN          1.0   \n1          NaN           NaN          NaN          NaN   \n2          NaN           NaN          NaN          NaN   \n3          NaN           NaN          NaN          NaN   \n4          NaN           NaN          NaN          NaN   \n\n  propertycountylandusecode  propertylandusetypeid propertyzoningdesc  \\\n0                      1110                  261.0                NaN   \n1                      1110                  261.0                NaN   \n2                      1110                  261.0                NaN   \n3                      1129                  266.0                NaN   \n4                      1110                  261.0                NaN   \n\n   rawcensustractandblock  regionidcity  regionidcounty  regionidneighborhood  \\\n0            6.111001e+07       13091.0          2061.0                   NaN   \n1            6.111001e+07       13091.0          2061.0                   NaN   \n2            6.111001e+07       34543.0          2061.0                   NaN   \n3            6.111002e+07       34543.0          2061.0                   NaN   \n4            6.111002e+07       34543.0          2061.0                   NaN   \n\n   regionidzip  roomcnt  storytypeid  threequarterbathnbr  \\\n0      97099.0     11.0          NaN                  NaN   \n1      97099.0      6.0          NaN                  NaN   \n2      97081.0      6.0          NaN                  1.0   \n3      97081.0      4.0          NaN                  NaN   \n4      97083.0      5.0          NaN                  NaN   \n\n   typeconstructiontypeid  unitcnt  yardbuildingsqft17  yardbuildingsqft26  \\\n0                     NaN      NaN                 NaN                 NaN   \n1                     NaN      NaN                 NaN                 NaN   \n2                     NaN      NaN                 NaN                 NaN   \n3                     NaN      NaN                55.0                 NaN   \n4                     NaN      NaN                 NaN                 NaN   \n\n   yearbuilt  numberofstories fireplaceflag  structuretaxvaluedollarcnt  \\\n0     1982.0              2.0           NaN                    501928.0   \n1     1951.0              1.0           NaN                    130845.0   \n2     1979.0              1.0           NaN                    193413.0   \n3     1989.0              1.0           NaN                     90357.0   \n4     1948.0              1.0           NaN                    148752.0   \n\n   taxvaluedollarcnt  assessmentyear  landtaxvaluedollarcnt  taxamount  \\\n0           872850.0          2016.0               370922.0    9673.46   \n1           436157.0          2016.0               305312.0    5538.80   \n2           286606.0          2016.0                93193.0    2987.36   \n3           258888.0          2016.0               168531.0    2706.24   \n4           592930.0          2016.0               444178.0    6220.70   \n\n  taxdelinquencyflag  taxdelinquencyyear  censustractandblock  logerror  \\\n0                NaN                 NaN         6.111001e+13 -0.013099   \n1                NaN                 NaN         6.111001e+13  0.073985   \n2                NaN                 NaN         6.111001e+13  0.071886   \n3                NaN                 NaN         6.111002e+13  0.305680   \n4                NaN                 NaN         6.111002e+13 -0.073787   \n\n  transactiondate  \n0      2017-06-15  \n1      2017-07-26  \n2      2017-07-28  \n3      2017-06-02  \n4      2017-07-07  ",
      "text/html": "<div>\n<style scoped>\n    .dataframe tbody tr th:only-of-type {\n        vertical-align: middle;\n    }\n\n    .dataframe tbody tr th {\n        vertical-align: top;\n    }\n\n    .dataframe thead th {\n        text-align: right;\n    }\n</style>\n<table border=\"1\" class=\"dataframe\">\n  <thead>\n    <tr style=\"text-align: right;\">\n      <th></th>\n      <th>parcelid</th>\n      <th>airconditioningtypeid</th>\n      <th>architecturalstyletypeid</th>\n      <th>basementsqft</th>\n      <th>bathroomcnt</th>\n      <th>bedroomcnt</th>\n      <th>buildingclasstypeid</th>\n      <th>buildingqualitytypeid</th>\n      <th>calculatedbathnbr</th>\n      <th>decktypeid</th>\n      <th>finishedfloor1squarefeet</th>\n      <th>calculatedfinishedsquarefeet</th>\n      <th>finishedsquarefeet12</th>\n      <th>finishedsquarefeet13</th>\n      <th>finishedsquarefeet15</th>\n      <th>finishedsquarefeet50</th>\n      <th>finishedsquarefeet6</th>\n      <th>fips</th>\n      <th>fireplacecnt</th>\n      <th>fullbathcnt</th>\n      <th>garagecarcnt</th>\n      <th>garagetotalsqft</th>\n      <th>hashottuborspa</th>\n      <th>heatingorsystemtypeid</th>\n      <th>latitude</th>\n      <th>longitude</th>\n      <th>lotsizesquarefeet</th>\n      <th>poolcnt</th>\n      <th>poolsizesum</th>\n      <th>pooltypeid10</th>\n      <th>pooltypeid2</th>\n      <th>pooltypeid7</th>\n      <th>propertycountylandusecode</th>\n      <th>propertylandusetypeid</th>\n      <th>propertyzoningdesc</th>\n      <th>rawcensustractandblock</th>\n      <th>regionidcity</th>\n      <th>regionidcounty</th>\n      <th>regionidneighborhood</th>\n      <th>regionidzip</th>\n      <th>roomcnt</th>\n      <th>storytypeid</th>\n      <th>threequarterbathnbr</th>\n      <th>typeconstructiontypeid</th>\n      <th>unitcnt</th>\n      <th>yardbuildingsqft17</th>\n      <th>yardbuildingsqft26</th>\n      <th>yearbuilt</th>\n      <th>numberofstories</th>\n      <th>fireplaceflag</th>\n      <th>structuretaxvaluedollarcnt</th>\n      <th>taxvaluedollarcnt</th>\n      <th>assessmentyear</th>\n      <th>landtaxvaluedollarcnt</th>\n      <th>taxamount</th>\n      <th>taxdelinquencyflag</th>\n      <th>taxdelinquencyyear</th>\n      <th>censustractandblock</th>\n      <th>logerror</th>\n      <th>transactiondate</th>\n    </tr>\n  </thead>\n  <tbody>\n    <tr>\n      <th>0</th>\n      <td>17054981</td>\n      <td>NaN</td>\n      <td>NaN</td>\n      <td>NaN</td>\n      <td>5.0</td>\n      <td>4.0</td>\n      <td>NaN</td>\n      <td>NaN</td>\n      <td>5.0</td>\n      <td>NaN</td>\n      <td>1968.0</td>\n      <td>3760.0</td>\n      <td>3760.0</td>\n      <td>NaN</td>\n      <td>NaN</td>\n      <td>1968.0</td>\n      <td>NaN</td>\n      <td>6111.0</td>\n      <td>4.0</td>\n      <td>5.0</td>\n      <td>3.0</td>\n      <td>784.0</td>\n      <td>NaN</td>\n      <td>NaN</td>\n      <td>34449407.0</td>\n      <td>-119254052.0</td>\n      <td>42688.0</td>\n      <td>1.0</td>\n      <td>735.0</td>\n      <td>NaN</td>\n      <td>NaN</td>\n      <td>1.0</td>\n      <td>1110</td>\n      <td>261.0</td>\n      <td>NaN</td>\n      <td>6.111001e+07</td>\n      <td>13091.0</td>\n      <td>2061.0</td>\n      <td>NaN</td>\n      <td>97099.0</td>\n      <td>11.0</td>\n      <td>NaN</td>\n      <td>NaN</td>\n      <td>NaN</td>\n      <td>NaN</td>\n      <td>NaN</td>\n      <td>NaN</td>\n      <td>1982.0</td>\n      <td>2.0</td>\n      <td>NaN</td>\n      <td>501928.0</td>\n      <td>872850.0</td>\n      <td>2016.0</td>\n      <td>370922.0</td>\n      <td>9673.46</td>\n      <td>NaN</td>\n      <td>NaN</td>\n      <td>6.111001e+13</td>\n      <td>-0.013099</td>\n      <td>2017-06-15</td>\n    </tr>\n    <tr>\n      <th>1</th>\n      <td>17055743</td>\n      <td>NaN</td>\n      <td>NaN</td>\n      <td>NaN</td>\n      <td>2.0</td>\n      <td>3.0</td>\n      <td>NaN</td>\n      <td>NaN</td>\n      <td>2.0</td>\n      <td>66.0</td>\n      <td>1444.0</td>\n      <td>1444.0</td>\n      <td>1444.0</td>\n      <td>NaN</td>\n      <td>NaN</td>\n      <td>1444.0</td>\n      <td>NaN</td>\n      <td>6111.0</td>\n      <td>NaN</td>\n      <td>2.0</td>\n      <td>1.0</td>\n      <td>0.0</td>\n      <td>NaN</td>\n      <td>NaN</td>\n      <td>34454169.0</td>\n      <td>-119237898.0</td>\n      <td>7108.0</td>\n      <td>NaN</td>\n      <td>NaN</td>\n      <td>NaN</td>\n      <td>NaN</td>\n      <td>NaN</td>\n      <td>1110</td>\n      <td>261.0</td>\n      <td>NaN</td>\n      <td>6.111001e+07</td>\n      <td>13091.0</td>\n      <td>2061.0</td>\n      <td>NaN</td>\n      <td>97099.0</td>\n      <td>6.0</td>\n      <td>NaN</td>\n      <td>NaN</td>\n      <td>NaN</td>\n      <td>NaN</td>\n      <td>NaN</td>\n      <td>NaN</td>\n      <td>1951.0</td>\n      <td>1.0</td>\n      <td>NaN</td>\n      <td>130845.0</td>\n      <td>436157.0</td>\n      <td>2016.0</td>\n      <td>305312.0</td>\n      <td>5538.80</td>\n      <td>NaN</td>\n      <td>NaN</td>\n      <td>6.111001e+13</td>\n      <td>0.073985</td>\n      <td>2017-07-26</td>\n    </tr>\n    <tr>\n      <th>2</th>\n      <td>17068109</td>\n      <td>NaN</td>\n      <td>NaN</td>\n      <td>NaN</td>\n      <td>1.5</td>\n      <td>3.0</td>\n      <td>NaN</td>\n      <td>NaN</td>\n      <td>1.5</td>\n      <td>66.0</td>\n      <td>1698.0</td>\n      <td>1698.0</td>\n      <td>1698.0</td>\n      <td>NaN</td>\n      <td>NaN</td>\n      <td>1698.0</td>\n      <td>NaN</td>\n      <td>6111.0</td>\n      <td>1.0</td>\n      <td>1.0</td>\n      <td>0.0</td>\n      <td>0.0</td>\n      <td>NaN</td>\n      <td>NaN</td>\n      <td>34365693.0</td>\n      <td>-119448392.0</td>\n      <td>2588.0</td>\n      <td>NaN</td>\n      <td>NaN</td>\n      <td>NaN</td>\n      <td>NaN</td>\n      <td>NaN</td>\n      <td>1110</td>\n      <td>261.0</td>\n      <td>NaN</td>\n      <td>6.111001e+07</td>\n      <td>34543.0</td>\n      <td>2061.0</td>\n      <td>NaN</td>\n      <td>97081.0</td>\n      <td>6.0</td>\n      <td>NaN</td>\n      <td>1.0</td>\n      <td>NaN</td>\n      <td>NaN</td>\n      <td>NaN</td>\n      <td>NaN</td>\n      <td>1979.0</td>\n      <td>1.0</td>\n      <td>NaN</td>\n      <td>193413.0</td>\n      <td>286606.0</td>\n      <td>2016.0</td>\n      <td>93193.0</td>\n      <td>2987.36</td>\n      <td>NaN</td>\n      <td>NaN</td>\n      <td>6.111001e+13</td>\n      <td>0.071886</td>\n      <td>2017-07-28</td>\n    </tr>\n    <tr>\n      <th>3</th>\n      <td>17073952</td>\n      <td>NaN</td>\n      <td>NaN</td>\n      <td>NaN</td>\n      <td>2.0</td>\n      <td>2.0</td>\n      <td>NaN</td>\n      <td>NaN</td>\n      <td>2.0</td>\n      <td>NaN</td>\n      <td>986.0</td>\n      <td>986.0</td>\n      <td>986.0</td>\n      <td>NaN</td>\n      <td>NaN</td>\n      <td>986.0</td>\n      <td>NaN</td>\n      <td>6111.0</td>\n      <td>1.0</td>\n      <td>2.0</td>\n      <td>1.0</td>\n      <td>0.0</td>\n      <td>NaN</td>\n      <td>NaN</td>\n      <td>34305600.0</td>\n      <td>-119284000.0</td>\n      <td>NaN</td>\n      <td>NaN</td>\n      <td>NaN</td>\n      <td>NaN</td>\n      <td>NaN</td>\n      <td>NaN</td>\n      <td>1129</td>\n      <td>266.0</td>\n      <td>NaN</td>\n      <td>6.111002e+07</td>\n      <td>34543.0</td>\n      <td>2061.0</td>\n      <td>NaN</td>\n      <td>97081.0</td>\n      <td>4.0</td>\n      <td>NaN</td>\n      <td>NaN</td>\n      <td>NaN</td>\n      <td>NaN</td>\n      <td>55.0</td>\n      <td>NaN</td>\n      <td>1989.0</td>\n      <td>1.0</td>\n      <td>NaN</td>\n      <td>90357.0</td>\n      <td>258888.0</td>\n      <td>2016.0</td>\n      <td>168531.0</td>\n      <td>2706.24</td>\n      <td>NaN</td>\n      <td>NaN</td>\n      <td>6.111002e+13</td>\n      <td>0.305680</td>\n      <td>2017-06-02</td>\n    </tr>\n    <tr>\n      <th>4</th>\n      <td>17078502</td>\n      <td>NaN</td>\n      <td>NaN</td>\n      <td>NaN</td>\n      <td>1.0</td>\n      <td>2.0</td>\n      <td>NaN</td>\n      <td>NaN</td>\n      <td>1.0</td>\n      <td>NaN</td>\n      <td>1170.0</td>\n      <td>1170.0</td>\n      <td>1170.0</td>\n      <td>NaN</td>\n      <td>NaN</td>\n      <td>1170.0</td>\n      <td>NaN</td>\n      <td>6111.0</td>\n      <td>1.0</td>\n      <td>1.0</td>\n      <td>2.0</td>\n      <td>621.0</td>\n      <td>NaN</td>\n      <td>NaN</td>\n      <td>34278012.0</td>\n      <td>-119257047.0</td>\n      <td>5643.0</td>\n      <td>NaN</td>\n      <td>NaN</td>\n      <td>NaN</td>\n      <td>NaN</td>\n      <td>NaN</td>\n      <td>1110</td>\n      <td>261.0</td>\n      <td>NaN</td>\n      <td>6.111002e+07</td>\n      <td>34543.0</td>\n      <td>2061.0</td>\n      <td>NaN</td>\n      <td>97083.0</td>\n      <td>5.0</td>\n      <td>NaN</td>\n      <td>NaN</td>\n      <td>NaN</td>\n      <td>NaN</td>\n      <td>NaN</td>\n      <td>NaN</td>\n      <td>1948.0</td>\n      <td>1.0</td>\n      <td>NaN</td>\n      <td>148752.0</td>\n      <td>592930.0</td>\n      <td>2016.0</td>\n      <td>444178.0</td>\n      <td>6220.70</td>\n      <td>NaN</td>\n      <td>NaN</td>\n      <td>6.111002e+13</td>\n      <td>-0.073787</td>\n      <td>2017-07-07</td>\n    </tr>\n  </tbody>\n</table>\n</div>"
     },
     "execution_count": 22,
     "metadata": {},
     "output_type": "execute_result"
    }
   ],
   "source": [
    "# Reforming Dataset\n",
    "\n",
    "final_df = properties_2017.copy()\n",
    "final_df = final_df.merge(train_2017,on = 'parcelid',how = 'inner')\n",
    "final_df.head()"
   ],
   "metadata": {
    "collapsed": false,
    "pycharm": {
     "name": "#%%\n"
    }
   }
  },
  {
   "cell_type": "code",
   "execution_count": 23,
   "outputs": [
    {
     "data": {
      "text/plain": "(77613, 60)"
     },
     "execution_count": 23,
     "metadata": {},
     "output_type": "execute_result"
    }
   ],
   "source": [
    "final_df.shape"
   ],
   "metadata": {
    "collapsed": false,
    "pycharm": {
     "name": "#%%\n"
    }
   }
  },
  {
   "cell_type": "markdown",
   "source": [],
   "metadata": {
    "collapsed": false,
    "pycharm": {
     "name": "#%% md\n"
    }
   }
  },
  {
   "cell_type": "markdown",
   "source": [
    "## Visualization (exploration)"
   ],
   "metadata": {
    "collapsed": false,
    "pycharm": {
     "name": "#%% md\n"
    }
   }
  },
  {
   "cell_type": "code",
   "execution_count": 23,
   "outputs": [],
   "source": [],
   "metadata": {
    "collapsed": false,
    "pycharm": {
     "name": "#%%\n"
    }
   }
  },
  {
   "cell_type": "markdown",
   "source": [
    "### Feature Distributions"
   ],
   "metadata": {
    "collapsed": false,
    "pycharm": {
     "name": "#%% md\n"
    }
   }
  },
  {
   "cell_type": "code",
   "execution_count": 23,
   "outputs": [],
   "source": [],
   "metadata": {
    "collapsed": false,
    "pycharm": {
     "name": "#%%\n"
    }
   }
  },
  {
   "cell_type": "markdown",
   "source": [
    "### Correlations"
   ],
   "metadata": {
    "collapsed": false,
    "pycharm": {
     "name": "#%% md\n"
    }
   }
  },
  {
   "cell_type": "code",
   "execution_count": 23,
   "outputs": [],
   "source": [],
   "metadata": {
    "collapsed": false,
    "pycharm": {
     "name": "#%%\n"
    }
   }
  },
  {
   "cell_type": "markdown",
   "source": [
    "### Store into .csv\n",
    "\n",
    "Storing this dataframe in a separate .csv will come handy for later tasks.\n",
    "logerror and transactiondate are dropped because they are not property data."
   ],
   "metadata": {
    "collapsed": false,
    "pycharm": {
     "name": "#%% md\n"
    }
   }
  },
  {
   "cell_type": "code",
   "execution_count": 23,
   "outputs": [],
   "source": [],
   "metadata": {
    "collapsed": false,
    "pycharm": {
     "name": "#%%\n"
    }
   }
  },
  {
   "cell_type": "code",
   "execution_count": 23,
   "outputs": [],
   "source": [],
   "metadata": {
    "collapsed": false,
    "pycharm": {
     "name": "#%%\n"
    }
   }
  },
  {
   "cell_type": "markdown",
   "source": [
    "# Feature Engineering"
   ],
   "metadata": {
    "collapsed": false,
    "pycharm": {
     "name": "#%% md\n"
    }
   }
  },
  {
   "cell_type": "code",
   "execution_count": 23,
   "outputs": [],
   "source": [],
   "metadata": {
    "collapsed": false,
    "pycharm": {
     "name": "#%%\n"
    }
   }
  }
 ],
 "metadata": {
  "kernelspec": {
   "display_name": "Python 3",
   "language": "python",
   "name": "python3"
  },
  "language_info": {
   "codemirror_mode": {
    "name": "ipython",
    "version": 2
   },
   "file_extension": ".py",
   "mimetype": "text/x-python",
   "name": "python",
   "nbconvert_exporter": "python",
   "pygments_lexer": "ipython2",
   "version": "2.7.6"
  }
 },
 "nbformat": 4,
 "nbformat_minor": 0
}